{
 "cells": [
  {
   "cell_type": "markdown",
   "metadata": {},
   "source": [
    "* Applicant's name: Nghi Tran\n",
    "* Email: nghtran@abo.fi \n",
    "* Phone number: +358 457 83 44166"
   ]
  },
  {
   "cell_type": "markdown",
   "metadata": {},
   "source": [
    "\n",
    "## Choosing the data\n",
    "\n",
    "* **Time series.** Consider the flow of orders in the attached file as a process fluctuating in time.\n",
    "\n",
    "You don't have to limit your choices to these, and you can also freely combine and enrich datasets.\n",
    "\n",
    "## Choosing the approach\n",
    "Armed with a dataset, come up with a modeling task that is relevant to Wolt. To give you an idea what we are looking for, the task might look something like these:\n",
    "\n",
    "* How many orders are we going to get tomorrow? Or next week?\n",
    "ment is that your approach will result in some kind of predictive model. Choose a task that properly showcases your skills!\n",
    "\n",
    "## Working with the data\n",
    "### Exploration\n",
    "Produce interesting statistics and graphs about the dataset. Show the most important features and explain what you see. \n"
   ]
  },
  {
   "cell_type": "markdown",
   "metadata": {},
   "source": [
    "I choose the option 1: Time series: Time series. Consider the flow of orders in the attached file as a process fluctuating in time.\n",
    "How many orders are we going to get tomorrow? Or next week?"
   ]
  },
  {
   "cell_type": "code",
   "execution_count": 5,
   "metadata": {},
   "outputs": [],
   "source": [
    "import scipy as sc\n",
    "import numpy as np\n",
    "import pandas as pd\n",
    "import statsmodels.tsa.seasonal \n",
    "from statsmodels.tsa.seasonal import seasonal_decompose\n",
    "import matplotlib.pyplot as plt\n",
    "import seaborn as sns\n",
    "import sklearn \n",
    "import datetime\n",
    "from IPython.display import display, HTML  \n",
    "from sklearn import linear_model\n",
    "from sklearn import datasets\n",
    "from statsmodels.tsa.statespace.sarimax import SARIMAX\n",
    "from sklearn.metrics import mean_squared_error\n",
    "from statsmodels.tools.eval_measures import rmse\n",
    "from sklearn.linear_model import LinearRegression\n",
    "from sklearn.model_selection import train_test_split\n",
    "from sklearn.datasets import load_iris"
   ]
  },
  {
   "cell_type": "code",
   "execution_count": 6,
   "metadata": {},
   "outputs": [
    {
     "data": {
      "text/html": [
       "<div>\n",
       "<style scoped>\n",
       "    .dataframe tbody tr th:only-of-type {\n",
       "        vertical-align: middle;\n",
       "    }\n",
       "\n",
       "    .dataframe tbody tr th {\n",
       "        vertical-align: top;\n",
       "    }\n",
       "\n",
       "    .dataframe thead th {\n",
       "        text-align: right;\n",
       "    }\n",
       "</style>\n",
       "<table border=\"1\" class=\"dataframe\">\n",
       "  <thead>\n",
       "    <tr style=\"text-align: right;\">\n",
       "      <th></th>\n",
       "      <th>ACTUAL_DELIVERY_MINUTES - ESTIMATED_DELIVERY_MINUTES</th>\n",
       "      <th>ITEM_COUNT</th>\n",
       "      <th>USER_LAT</th>\n",
       "      <th>USER_LONG</th>\n",
       "      <th>VENUE_LAT</th>\n",
       "      <th>VENUE_LONG</th>\n",
       "      <th>ESTIMATED_DELIVERY_MINUTES</th>\n",
       "      <th>ACTUAL_DELIVERY_MINUTES</th>\n",
       "      <th>CLOUD_COVERAGE</th>\n",
       "      <th>TEMPERATURE</th>\n",
       "      <th>WIND_SPEED</th>\n",
       "      <th>PRECIPITATION</th>\n",
       "    </tr>\n",
       "    <tr>\n",
       "      <th>TIMESTAMP</th>\n",
       "      <th></th>\n",
       "      <th></th>\n",
       "      <th></th>\n",
       "      <th></th>\n",
       "      <th></th>\n",
       "      <th></th>\n",
       "      <th></th>\n",
       "      <th></th>\n",
       "      <th></th>\n",
       "      <th></th>\n",
       "      <th></th>\n",
       "      <th></th>\n",
       "    </tr>\n",
       "  </thead>\n",
       "  <tbody>\n",
       "    <tr>\n",
       "      <th>2020-08-01 06:07:00</th>\n",
       "      <td>-19</td>\n",
       "      <td>1</td>\n",
       "      <td>60.158</td>\n",
       "      <td>24.946</td>\n",
       "      <td>60.160</td>\n",
       "      <td>24.946</td>\n",
       "      <td>29</td>\n",
       "      <td>10</td>\n",
       "      <td>0.0</td>\n",
       "      <td>15.0</td>\n",
       "      <td>3.53644</td>\n",
       "      <td>0.0</td>\n",
       "    </tr>\n",
       "    <tr>\n",
       "      <th>2020-08-01 06:17:00</th>\n",
       "      <td>-7</td>\n",
       "      <td>8</td>\n",
       "      <td>60.163</td>\n",
       "      <td>24.927</td>\n",
       "      <td>60.153</td>\n",
       "      <td>24.910</td>\n",
       "      <td>39</td>\n",
       "      <td>32</td>\n",
       "      <td>0.0</td>\n",
       "      <td>15.0</td>\n",
       "      <td>3.53644</td>\n",
       "      <td>0.0</td>\n",
       "    </tr>\n",
       "    <tr>\n",
       "      <th>2020-08-01 06:54:00</th>\n",
       "      <td>-17</td>\n",
       "      <td>4</td>\n",
       "      <td>60.161</td>\n",
       "      <td>24.937</td>\n",
       "      <td>60.162</td>\n",
       "      <td>24.939</td>\n",
       "      <td>23</td>\n",
       "      <td>6</td>\n",
       "      <td>0.0</td>\n",
       "      <td>15.0</td>\n",
       "      <td>3.53644</td>\n",
       "      <td>0.0</td>\n",
       "    </tr>\n",
       "    <tr>\n",
       "      <th>2020-08-01 07:09:00</th>\n",
       "      <td>-2</td>\n",
       "      <td>3</td>\n",
       "      <td>60.185</td>\n",
       "      <td>24.954</td>\n",
       "      <td>60.190</td>\n",
       "      <td>24.911</td>\n",
       "      <td>28</td>\n",
       "      <td>26</td>\n",
       "      <td>0.0</td>\n",
       "      <td>16.7</td>\n",
       "      <td>3.52267</td>\n",
       "      <td>0.0</td>\n",
       "    </tr>\n",
       "    <tr>\n",
       "      <th>2020-08-01 07:10:00</th>\n",
       "      <td>-1</td>\n",
       "      <td>2</td>\n",
       "      <td>60.182</td>\n",
       "      <td>24.955</td>\n",
       "      <td>60.178</td>\n",
       "      <td>24.949</td>\n",
       "      <td>27</td>\n",
       "      <td>26</td>\n",
       "      <td>0.0</td>\n",
       "      <td>16.7</td>\n",
       "      <td>3.52267</td>\n",
       "      <td>0.0</td>\n",
       "    </tr>\n",
       "    <tr>\n",
       "      <th>...</th>\n",
       "      <td>...</td>\n",
       "      <td>...</td>\n",
       "      <td>...</td>\n",
       "      <td>...</td>\n",
       "      <td>...</td>\n",
       "      <td>...</td>\n",
       "      <td>...</td>\n",
       "      <td>...</td>\n",
       "      <td>...</td>\n",
       "      <td>...</td>\n",
       "      <td>...</td>\n",
       "      <td>...</td>\n",
       "    </tr>\n",
       "    <tr>\n",
       "      <th>2020-09-30 19:27:00</th>\n",
       "      <td>-1</td>\n",
       "      <td>1</td>\n",
       "      <td>60.170</td>\n",
       "      <td>24.946</td>\n",
       "      <td>60.170</td>\n",
       "      <td>24.945</td>\n",
       "      <td>24</td>\n",
       "      <td>23</td>\n",
       "      <td>0.0</td>\n",
       "      <td>12.8</td>\n",
       "      <td>2.34419</td>\n",
       "      <td>0.0</td>\n",
       "    </tr>\n",
       "    <tr>\n",
       "      <th>2020-09-30 19:36:00</th>\n",
       "      <td>-8</td>\n",
       "      <td>6</td>\n",
       "      <td>60.185</td>\n",
       "      <td>24.944</td>\n",
       "      <td>60.178</td>\n",
       "      <td>24.949</td>\n",
       "      <td>23</td>\n",
       "      <td>15</td>\n",
       "      <td>0.0</td>\n",
       "      <td>12.8</td>\n",
       "      <td>2.34419</td>\n",
       "      <td>0.0</td>\n",
       "    </tr>\n",
       "    <tr>\n",
       "      <th>2020-09-30 19:39:00</th>\n",
       "      <td>-14</td>\n",
       "      <td>3</td>\n",
       "      <td>60.186</td>\n",
       "      <td>24.949</td>\n",
       "      <td>60.188</td>\n",
       "      <td>24.956</td>\n",
       "      <td>25</td>\n",
       "      <td>11</td>\n",
       "      <td>0.0</td>\n",
       "      <td>12.8</td>\n",
       "      <td>2.34419</td>\n",
       "      <td>0.0</td>\n",
       "    </tr>\n",
       "    <tr>\n",
       "      <th>2020-09-30 19:42:00</th>\n",
       "      <td>-11</td>\n",
       "      <td>3</td>\n",
       "      <td>60.172</td>\n",
       "      <td>24.929</td>\n",
       "      <td>60.168</td>\n",
       "      <td>24.930</td>\n",
       "      <td>21</td>\n",
       "      <td>10</td>\n",
       "      <td>0.0</td>\n",
       "      <td>12.8</td>\n",
       "      <td>2.34419</td>\n",
       "      <td>0.0</td>\n",
       "    </tr>\n",
       "    <tr>\n",
       "      <th>2020-09-30 20:04:00</th>\n",
       "      <td>-7</td>\n",
       "      <td>1</td>\n",
       "      <td>60.166</td>\n",
       "      <td>24.965</td>\n",
       "      <td>60.183</td>\n",
       "      <td>24.951</td>\n",
       "      <td>28</td>\n",
       "      <td>21</td>\n",
       "      <td>0.0</td>\n",
       "      <td>12.8</td>\n",
       "      <td>2.34249</td>\n",
       "      <td>0.0</td>\n",
       "    </tr>\n",
       "  </tbody>\n",
       "</table>\n",
       "<p>18706 rows × 12 columns</p>\n",
       "</div>"
      ],
      "text/plain": [
       "                     ACTUAL_DELIVERY_MINUTES - ESTIMATED_DELIVERY_MINUTES  \\\n",
       "TIMESTAMP                                                                   \n",
       "2020-08-01 06:07:00                                                -19      \n",
       "2020-08-01 06:17:00                                                 -7      \n",
       "2020-08-01 06:54:00                                                -17      \n",
       "2020-08-01 07:09:00                                                 -2      \n",
       "2020-08-01 07:10:00                                                 -1      \n",
       "...                                                                ...      \n",
       "2020-09-30 19:27:00                                                 -1      \n",
       "2020-09-30 19:36:00                                                 -8      \n",
       "2020-09-30 19:39:00                                                -14      \n",
       "2020-09-30 19:42:00                                                -11      \n",
       "2020-09-30 20:04:00                                                 -7      \n",
       "\n",
       "                     ITEM_COUNT  USER_LAT  USER_LONG  VENUE_LAT  VENUE_LONG  \\\n",
       "TIMESTAMP                                                                     \n",
       "2020-08-01 06:07:00           1    60.158     24.946     60.160      24.946   \n",
       "2020-08-01 06:17:00           8    60.163     24.927     60.153      24.910   \n",
       "2020-08-01 06:54:00           4    60.161     24.937     60.162      24.939   \n",
       "2020-08-01 07:09:00           3    60.185     24.954     60.190      24.911   \n",
       "2020-08-01 07:10:00           2    60.182     24.955     60.178      24.949   \n",
       "...                         ...       ...        ...        ...         ...   \n",
       "2020-09-30 19:27:00           1    60.170     24.946     60.170      24.945   \n",
       "2020-09-30 19:36:00           6    60.185     24.944     60.178      24.949   \n",
       "2020-09-30 19:39:00           3    60.186     24.949     60.188      24.956   \n",
       "2020-09-30 19:42:00           3    60.172     24.929     60.168      24.930   \n",
       "2020-09-30 20:04:00           1    60.166     24.965     60.183      24.951   \n",
       "\n",
       "                     ESTIMATED_DELIVERY_MINUTES  ACTUAL_DELIVERY_MINUTES  \\\n",
       "TIMESTAMP                                                                  \n",
       "2020-08-01 06:07:00                          29                       10   \n",
       "2020-08-01 06:17:00                          39                       32   \n",
       "2020-08-01 06:54:00                          23                        6   \n",
       "2020-08-01 07:09:00                          28                       26   \n",
       "2020-08-01 07:10:00                          27                       26   \n",
       "...                                         ...                      ...   \n",
       "2020-09-30 19:27:00                          24                       23   \n",
       "2020-09-30 19:36:00                          23                       15   \n",
       "2020-09-30 19:39:00                          25                       11   \n",
       "2020-09-30 19:42:00                          21                       10   \n",
       "2020-09-30 20:04:00                          28                       21   \n",
       "\n",
       "                     CLOUD_COVERAGE  TEMPERATURE  WIND_SPEED  PRECIPITATION  \n",
       "TIMESTAMP                                                                    \n",
       "2020-08-01 06:07:00             0.0         15.0     3.53644            0.0  \n",
       "2020-08-01 06:17:00             0.0         15.0     3.53644            0.0  \n",
       "2020-08-01 06:54:00             0.0         15.0     3.53644            0.0  \n",
       "2020-08-01 07:09:00             0.0         16.7     3.52267            0.0  \n",
       "2020-08-01 07:10:00             0.0         16.7     3.52267            0.0  \n",
       "...                             ...          ...         ...            ...  \n",
       "2020-09-30 19:27:00             0.0         12.8     2.34419            0.0  \n",
       "2020-09-30 19:36:00             0.0         12.8     2.34419            0.0  \n",
       "2020-09-30 19:39:00             0.0         12.8     2.34419            0.0  \n",
       "2020-09-30 19:42:00             0.0         12.8     2.34419            0.0  \n",
       "2020-09-30 20:04:00             0.0         12.8     2.34249            0.0  \n",
       "\n",
       "[18706 rows x 12 columns]"
      ]
     },
     "execution_count": 6,
     "metadata": {},
     "output_type": "execute_result"
    }
   ],
   "source": [
    "df= pd.read_csv('orders_autumn_2020.csv', parse_dates= ['TIMESTAMP'], index_col=['TIMESTAMP'])\n",
    "df"
   ]
  },
  {
   "cell_type": "markdown",
   "metadata": {},
   "source": [
    "First I will clean the data, there will be two figures that I need: TIMESTAMP and ITEM_COUNT"
   ]
  },
  {
   "cell_type": "code",
   "execution_count": 7,
   "metadata": {},
   "outputs": [
    {
     "data": {
      "text/html": [
       "<div>\n",
       "<style scoped>\n",
       "    .dataframe tbody tr th:only-of-type {\n",
       "        vertical-align: middle;\n",
       "    }\n",
       "\n",
       "    .dataframe tbody tr th {\n",
       "        vertical-align: top;\n",
       "    }\n",
       "\n",
       "    .dataframe thead th {\n",
       "        text-align: right;\n",
       "    }\n",
       "</style>\n",
       "<table border=\"1\" class=\"dataframe\">\n",
       "  <thead>\n",
       "    <tr style=\"text-align: right;\">\n",
       "      <th></th>\n",
       "      <th>ACTUAL_DELIVERY_MINUTES - ESTIMATED_DELIVERY_MINUTES</th>\n",
       "      <th>ITEM_COUNT</th>\n",
       "      <th>USER_LAT</th>\n",
       "    </tr>\n",
       "    <tr>\n",
       "      <th>TIMESTAMP</th>\n",
       "      <th></th>\n",
       "      <th></th>\n",
       "      <th></th>\n",
       "    </tr>\n",
       "  </thead>\n",
       "  <tbody>\n",
       "    <tr>\n",
       "      <th>2020-08-01 06:07:00</th>\n",
       "      <td>-19</td>\n",
       "      <td>1</td>\n",
       "      <td>60.158</td>\n",
       "    </tr>\n",
       "    <tr>\n",
       "      <th>2020-08-01 06:17:00</th>\n",
       "      <td>-7</td>\n",
       "      <td>8</td>\n",
       "      <td>60.163</td>\n",
       "    </tr>\n",
       "    <tr>\n",
       "      <th>2020-08-01 06:54:00</th>\n",
       "      <td>-17</td>\n",
       "      <td>4</td>\n",
       "      <td>60.161</td>\n",
       "    </tr>\n",
       "    <tr>\n",
       "      <th>2020-08-01 07:09:00</th>\n",
       "      <td>-2</td>\n",
       "      <td>3</td>\n",
       "      <td>60.185</td>\n",
       "    </tr>\n",
       "    <tr>\n",
       "      <th>2020-08-01 07:10:00</th>\n",
       "      <td>-1</td>\n",
       "      <td>2</td>\n",
       "      <td>60.182</td>\n",
       "    </tr>\n",
       "    <tr>\n",
       "      <th>...</th>\n",
       "      <td>...</td>\n",
       "      <td>...</td>\n",
       "      <td>...</td>\n",
       "    </tr>\n",
       "    <tr>\n",
       "      <th>2020-09-30 19:27:00</th>\n",
       "      <td>-1</td>\n",
       "      <td>1</td>\n",
       "      <td>60.170</td>\n",
       "    </tr>\n",
       "    <tr>\n",
       "      <th>2020-09-30 19:36:00</th>\n",
       "      <td>-8</td>\n",
       "      <td>6</td>\n",
       "      <td>60.185</td>\n",
       "    </tr>\n",
       "    <tr>\n",
       "      <th>2020-09-30 19:39:00</th>\n",
       "      <td>-14</td>\n",
       "      <td>3</td>\n",
       "      <td>60.186</td>\n",
       "    </tr>\n",
       "    <tr>\n",
       "      <th>2020-09-30 19:42:00</th>\n",
       "      <td>-11</td>\n",
       "      <td>3</td>\n",
       "      <td>60.172</td>\n",
       "    </tr>\n",
       "    <tr>\n",
       "      <th>2020-09-30 20:04:00</th>\n",
       "      <td>-7</td>\n",
       "      <td>1</td>\n",
       "      <td>60.166</td>\n",
       "    </tr>\n",
       "  </tbody>\n",
       "</table>\n",
       "<p>18706 rows × 3 columns</p>\n",
       "</div>"
      ],
      "text/plain": [
       "                     ACTUAL_DELIVERY_MINUTES - ESTIMATED_DELIVERY_MINUTES  \\\n",
       "TIMESTAMP                                                                   \n",
       "2020-08-01 06:07:00                                                -19      \n",
       "2020-08-01 06:17:00                                                 -7      \n",
       "2020-08-01 06:54:00                                                -17      \n",
       "2020-08-01 07:09:00                                                 -2      \n",
       "2020-08-01 07:10:00                                                 -1      \n",
       "...                                                                ...      \n",
       "2020-09-30 19:27:00                                                 -1      \n",
       "2020-09-30 19:36:00                                                 -8      \n",
       "2020-09-30 19:39:00                                                -14      \n",
       "2020-09-30 19:42:00                                                -11      \n",
       "2020-09-30 20:04:00                                                 -7      \n",
       "\n",
       "                     ITEM_COUNT  USER_LAT  \n",
       "TIMESTAMP                                  \n",
       "2020-08-01 06:07:00           1    60.158  \n",
       "2020-08-01 06:17:00           8    60.163  \n",
       "2020-08-01 06:54:00           4    60.161  \n",
       "2020-08-01 07:09:00           3    60.185  \n",
       "2020-08-01 07:10:00           2    60.182  \n",
       "...                         ...       ...  \n",
       "2020-09-30 19:27:00           1    60.170  \n",
       "2020-09-30 19:36:00           6    60.185  \n",
       "2020-09-30 19:39:00           3    60.186  \n",
       "2020-09-30 19:42:00           3    60.172  \n",
       "2020-09-30 20:04:00           1    60.166  \n",
       "\n",
       "[18706 rows x 3 columns]"
      ]
     },
     "execution_count": 7,
     "metadata": {},
     "output_type": "execute_result"
    }
   ],
   "source": [
    "number_of_item= df.iloc[:,:3]\n",
    "number_of_item"
   ]
  },
  {
   "cell_type": "code",
   "execution_count": 8,
   "metadata": {},
   "outputs": [
    {
     "data": {
      "text/html": [
       "<div>\n",
       "<style scoped>\n",
       "    .dataframe tbody tr th:only-of-type {\n",
       "        vertical-align: middle;\n",
       "    }\n",
       "\n",
       "    .dataframe tbody tr th {\n",
       "        vertical-align: top;\n",
       "    }\n",
       "\n",
       "    .dataframe thead th {\n",
       "        text-align: right;\n",
       "    }\n",
       "</style>\n",
       "<table border=\"1\" class=\"dataframe\">\n",
       "  <thead>\n",
       "    <tr style=\"text-align: right;\">\n",
       "      <th></th>\n",
       "      <th>ACTUAL_DELIVERY_MINUTES - ESTIMATED_DELIVERY_MINUTES</th>\n",
       "      <th>ITEM_COUNT</th>\n",
       "      <th>USER_LAT</th>\n",
       "      <th>USER_LONG</th>\n",
       "      <th>VENUE_LAT</th>\n",
       "      <th>VENUE_LONG</th>\n",
       "      <th>ESTIMATED_DELIVERY_MINUTES</th>\n",
       "      <th>ACTUAL_DELIVERY_MINUTES</th>\n",
       "      <th>CLOUD_COVERAGE</th>\n",
       "      <th>TEMPERATURE</th>\n",
       "      <th>WIND_SPEED</th>\n",
       "      <th>PRECIPITATION</th>\n",
       "    </tr>\n",
       "  </thead>\n",
       "  <tbody>\n",
       "    <tr>\n",
       "      <th>count</th>\n",
       "      <td>18706.000000</td>\n",
       "      <td>18706.000000</td>\n",
       "      <td>18706.000000</td>\n",
       "      <td>18706.000000</td>\n",
       "      <td>18706.000000</td>\n",
       "      <td>18706.000000</td>\n",
       "      <td>18706.000000</td>\n",
       "      <td>18706.000000</td>\n",
       "      <td>18429.000000</td>\n",
       "      <td>18429.000000</td>\n",
       "      <td>18429.000000</td>\n",
       "      <td>18706.000000</td>\n",
       "    </tr>\n",
       "    <tr>\n",
       "      <th>mean</th>\n",
       "      <td>-1.201058</td>\n",
       "      <td>2.688228</td>\n",
       "      <td>60.175234</td>\n",
       "      <td>24.941244</td>\n",
       "      <td>60.175643</td>\n",
       "      <td>24.941214</td>\n",
       "      <td>33.809313</td>\n",
       "      <td>32.608254</td>\n",
       "      <td>11.996853</td>\n",
       "      <td>16.973536</td>\n",
       "      <td>3.790991</td>\n",
       "      <td>0.332756</td>\n",
       "    </tr>\n",
       "    <tr>\n",
       "      <th>std</th>\n",
       "      <td>8.979834</td>\n",
       "      <td>1.886455</td>\n",
       "      <td>0.012674</td>\n",
       "      <td>0.016540</td>\n",
       "      <td>0.011509</td>\n",
       "      <td>0.014482</td>\n",
       "      <td>7.340283</td>\n",
       "      <td>10.018879</td>\n",
       "      <td>23.812605</td>\n",
       "      <td>3.411900</td>\n",
       "      <td>1.456017</td>\n",
       "      <td>1.129234</td>\n",
       "    </tr>\n",
       "    <tr>\n",
       "      <th>min</th>\n",
       "      <td>-41.000000</td>\n",
       "      <td>1.000000</td>\n",
       "      <td>60.153000</td>\n",
       "      <td>24.909000</td>\n",
       "      <td>60.149000</td>\n",
       "      <td>24.878000</td>\n",
       "      <td>10.000000</td>\n",
       "      <td>6.000000</td>\n",
       "      <td>0.000000</td>\n",
       "      <td>6.100000</td>\n",
       "      <td>0.077419</td>\n",
       "      <td>0.000000</td>\n",
       "    </tr>\n",
       "    <tr>\n",
       "      <th>25%</th>\n",
       "      <td>-7.000000</td>\n",
       "      <td>1.000000</td>\n",
       "      <td>60.163000</td>\n",
       "      <td>24.926000</td>\n",
       "      <td>60.167000</td>\n",
       "      <td>24.930000</td>\n",
       "      <td>28.000000</td>\n",
       "      <td>25.000000</td>\n",
       "      <td>0.000000</td>\n",
       "      <td>14.400000</td>\n",
       "      <td>2.696190</td>\n",
       "      <td>0.000000</td>\n",
       "    </tr>\n",
       "    <tr>\n",
       "      <th>50%</th>\n",
       "      <td>-2.000000</td>\n",
       "      <td>2.000000</td>\n",
       "      <td>60.175000</td>\n",
       "      <td>24.943000</td>\n",
       "      <td>60.170000</td>\n",
       "      <td>24.941000</td>\n",
       "      <td>33.000000</td>\n",
       "      <td>32.000000</td>\n",
       "      <td>0.000000</td>\n",
       "      <td>16.700000</td>\n",
       "      <td>3.631970</td>\n",
       "      <td>0.000000</td>\n",
       "    </tr>\n",
       "    <tr>\n",
       "      <th>75%</th>\n",
       "      <td>5.000000</td>\n",
       "      <td>4.000000</td>\n",
       "      <td>60.186000</td>\n",
       "      <td>24.954000</td>\n",
       "      <td>60.186000</td>\n",
       "      <td>24.950000</td>\n",
       "      <td>38.000000</td>\n",
       "      <td>40.000000</td>\n",
       "      <td>25.000000</td>\n",
       "      <td>18.900000</td>\n",
       "      <td>4.692530</td>\n",
       "      <td>0.000000</td>\n",
       "    </tr>\n",
       "    <tr>\n",
       "      <th>max</th>\n",
       "      <td>34.000000</td>\n",
       "      <td>11.000000</td>\n",
       "      <td>60.201000</td>\n",
       "      <td>24.980000</td>\n",
       "      <td>60.219000</td>\n",
       "      <td>25.042000</td>\n",
       "      <td>82.000000</td>\n",
       "      <td>58.000000</td>\n",
       "      <td>100.000000</td>\n",
       "      <td>26.700000</td>\n",
       "      <td>9.857300</td>\n",
       "      <td>6.315790</td>\n",
       "    </tr>\n",
       "  </tbody>\n",
       "</table>\n",
       "</div>"
      ],
      "text/plain": [
       "       ACTUAL_DELIVERY_MINUTES - ESTIMATED_DELIVERY_MINUTES    ITEM_COUNT  \\\n",
       "count                                       18706.000000     18706.000000   \n",
       "mean                                           -1.201058         2.688228   \n",
       "std                                             8.979834         1.886455   \n",
       "min                                           -41.000000         1.000000   \n",
       "25%                                            -7.000000         1.000000   \n",
       "50%                                            -2.000000         2.000000   \n",
       "75%                                             5.000000         4.000000   \n",
       "max                                            34.000000        11.000000   \n",
       "\n",
       "           USER_LAT     USER_LONG     VENUE_LAT    VENUE_LONG  \\\n",
       "count  18706.000000  18706.000000  18706.000000  18706.000000   \n",
       "mean      60.175234     24.941244     60.175643     24.941214   \n",
       "std        0.012674      0.016540      0.011509      0.014482   \n",
       "min       60.153000     24.909000     60.149000     24.878000   \n",
       "25%       60.163000     24.926000     60.167000     24.930000   \n",
       "50%       60.175000     24.943000     60.170000     24.941000   \n",
       "75%       60.186000     24.954000     60.186000     24.950000   \n",
       "max       60.201000     24.980000     60.219000     25.042000   \n",
       "\n",
       "       ESTIMATED_DELIVERY_MINUTES  ACTUAL_DELIVERY_MINUTES  CLOUD_COVERAGE  \\\n",
       "count                18706.000000             18706.000000    18429.000000   \n",
       "mean                    33.809313                32.608254       11.996853   \n",
       "std                      7.340283                10.018879       23.812605   \n",
       "min                     10.000000                 6.000000        0.000000   \n",
       "25%                     28.000000                25.000000        0.000000   \n",
       "50%                     33.000000                32.000000        0.000000   \n",
       "75%                     38.000000                40.000000       25.000000   \n",
       "max                     82.000000                58.000000      100.000000   \n",
       "\n",
       "        TEMPERATURE    WIND_SPEED  PRECIPITATION  \n",
       "count  18429.000000  18429.000000   18706.000000  \n",
       "mean      16.973536      3.790991       0.332756  \n",
       "std        3.411900      1.456017       1.129234  \n",
       "min        6.100000      0.077419       0.000000  \n",
       "25%       14.400000      2.696190       0.000000  \n",
       "50%       16.700000      3.631970       0.000000  \n",
       "75%       18.900000      4.692530       0.000000  \n",
       "max       26.700000      9.857300       6.315790  "
      ]
     },
     "execution_count": 8,
     "metadata": {},
     "output_type": "execute_result"
    }
   ],
   "source": [
    "df.describe()"
   ]
  },
  {
   "cell_type": "code",
   "execution_count": 9,
   "metadata": {},
   "outputs": [
    {
     "data": {
      "text/html": [
       "<div>\n",
       "<style scoped>\n",
       "    .dataframe tbody tr th:only-of-type {\n",
       "        vertical-align: middle;\n",
       "    }\n",
       "\n",
       "    .dataframe tbody tr th {\n",
       "        vertical-align: top;\n",
       "    }\n",
       "\n",
       "    .dataframe thead th {\n",
       "        text-align: right;\n",
       "    }\n",
       "</style>\n",
       "<table border=\"1\" class=\"dataframe\">\n",
       "  <thead>\n",
       "    <tr style=\"text-align: right;\">\n",
       "      <th></th>\n",
       "      <th>ACTUAL_DELIVERY_MINUTES - ESTIMATED_DELIVERY_MINUTES</th>\n",
       "      <th>ITEM_COUNT</th>\n",
       "      <th>USER_LAT</th>\n",
       "      <th>USER_LONG</th>\n",
       "      <th>VENUE_LAT</th>\n",
       "      <th>VENUE_LONG</th>\n",
       "      <th>ESTIMATED_DELIVERY_MINUTES</th>\n",
       "      <th>ACTUAL_DELIVERY_MINUTES</th>\n",
       "      <th>CLOUD_COVERAGE</th>\n",
       "      <th>TEMPERATURE</th>\n",
       "      <th>WIND_SPEED</th>\n",
       "      <th>PRECIPITATION</th>\n",
       "    </tr>\n",
       "    <tr>\n",
       "      <th>TIMESTAMP</th>\n",
       "      <th></th>\n",
       "      <th></th>\n",
       "      <th></th>\n",
       "      <th></th>\n",
       "      <th></th>\n",
       "      <th></th>\n",
       "      <th></th>\n",
       "      <th></th>\n",
       "      <th></th>\n",
       "      <th></th>\n",
       "      <th></th>\n",
       "      <th></th>\n",
       "    </tr>\n",
       "  </thead>\n",
       "  <tbody>\n",
       "    <tr>\n",
       "      <th>2020-08-01 06:07:00</th>\n",
       "      <td>-19</td>\n",
       "      <td>1</td>\n",
       "      <td>60.158</td>\n",
       "      <td>24.946</td>\n",
       "      <td>60.160</td>\n",
       "      <td>24.946</td>\n",
       "      <td>29</td>\n",
       "      <td>10</td>\n",
       "      <td>0.0</td>\n",
       "      <td>15.0</td>\n",
       "      <td>3.53644</td>\n",
       "      <td>0.0</td>\n",
       "    </tr>\n",
       "    <tr>\n",
       "      <th>2020-08-01 06:17:00</th>\n",
       "      <td>-7</td>\n",
       "      <td>8</td>\n",
       "      <td>60.163</td>\n",
       "      <td>24.927</td>\n",
       "      <td>60.153</td>\n",
       "      <td>24.910</td>\n",
       "      <td>39</td>\n",
       "      <td>32</td>\n",
       "      <td>0.0</td>\n",
       "      <td>15.0</td>\n",
       "      <td>3.53644</td>\n",
       "      <td>0.0</td>\n",
       "    </tr>\n",
       "    <tr>\n",
       "      <th>2020-08-01 06:54:00</th>\n",
       "      <td>-17</td>\n",
       "      <td>4</td>\n",
       "      <td>60.161</td>\n",
       "      <td>24.937</td>\n",
       "      <td>60.162</td>\n",
       "      <td>24.939</td>\n",
       "      <td>23</td>\n",
       "      <td>6</td>\n",
       "      <td>0.0</td>\n",
       "      <td>15.0</td>\n",
       "      <td>3.53644</td>\n",
       "      <td>0.0</td>\n",
       "    </tr>\n",
       "    <tr>\n",
       "      <th>2020-08-01 07:09:00</th>\n",
       "      <td>-2</td>\n",
       "      <td>3</td>\n",
       "      <td>60.185</td>\n",
       "      <td>24.954</td>\n",
       "      <td>60.190</td>\n",
       "      <td>24.911</td>\n",
       "      <td>28</td>\n",
       "      <td>26</td>\n",
       "      <td>0.0</td>\n",
       "      <td>16.7</td>\n",
       "      <td>3.52267</td>\n",
       "      <td>0.0</td>\n",
       "    </tr>\n",
       "    <tr>\n",
       "      <th>2020-08-01 07:10:00</th>\n",
       "      <td>-1</td>\n",
       "      <td>2</td>\n",
       "      <td>60.182</td>\n",
       "      <td>24.955</td>\n",
       "      <td>60.178</td>\n",
       "      <td>24.949</td>\n",
       "      <td>27</td>\n",
       "      <td>26</td>\n",
       "      <td>0.0</td>\n",
       "      <td>16.7</td>\n",
       "      <td>3.52267</td>\n",
       "      <td>0.0</td>\n",
       "    </tr>\n",
       "  </tbody>\n",
       "</table>\n",
       "</div>"
      ],
      "text/plain": [
       "                     ACTUAL_DELIVERY_MINUTES - ESTIMATED_DELIVERY_MINUTES  \\\n",
       "TIMESTAMP                                                                   \n",
       "2020-08-01 06:07:00                                                -19      \n",
       "2020-08-01 06:17:00                                                 -7      \n",
       "2020-08-01 06:54:00                                                -17      \n",
       "2020-08-01 07:09:00                                                 -2      \n",
       "2020-08-01 07:10:00                                                 -1      \n",
       "\n",
       "                     ITEM_COUNT  USER_LAT  USER_LONG  VENUE_LAT  VENUE_LONG  \\\n",
       "TIMESTAMP                                                                     \n",
       "2020-08-01 06:07:00           1    60.158     24.946     60.160      24.946   \n",
       "2020-08-01 06:17:00           8    60.163     24.927     60.153      24.910   \n",
       "2020-08-01 06:54:00           4    60.161     24.937     60.162      24.939   \n",
       "2020-08-01 07:09:00           3    60.185     24.954     60.190      24.911   \n",
       "2020-08-01 07:10:00           2    60.182     24.955     60.178      24.949   \n",
       "\n",
       "                     ESTIMATED_DELIVERY_MINUTES  ACTUAL_DELIVERY_MINUTES  \\\n",
       "TIMESTAMP                                                                  \n",
       "2020-08-01 06:07:00                          29                       10   \n",
       "2020-08-01 06:17:00                          39                       32   \n",
       "2020-08-01 06:54:00                          23                        6   \n",
       "2020-08-01 07:09:00                          28                       26   \n",
       "2020-08-01 07:10:00                          27                       26   \n",
       "\n",
       "                     CLOUD_COVERAGE  TEMPERATURE  WIND_SPEED  PRECIPITATION  \n",
       "TIMESTAMP                                                                    \n",
       "2020-08-01 06:07:00             0.0         15.0     3.53644            0.0  \n",
       "2020-08-01 06:17:00             0.0         15.0     3.53644            0.0  \n",
       "2020-08-01 06:54:00             0.0         15.0     3.53644            0.0  \n",
       "2020-08-01 07:09:00             0.0         16.7     3.52267            0.0  \n",
       "2020-08-01 07:10:00             0.0         16.7     3.52267            0.0  "
      ]
     },
     "execution_count": 9,
     "metadata": {},
     "output_type": "execute_result"
    }
   ],
   "source": [
    "df.head()"
   ]
  },
  {
   "cell_type": "code",
   "execution_count": 10,
   "metadata": {},
   "outputs": [
    {
     "name": "stdout",
     "output_type": "stream",
     "text": [
      "<class 'pandas.core.frame.DataFrame'>\n",
      "DatetimeIndex: 18706 entries, 2020-08-01 06:07:00 to 2020-09-30 20:04:00\n",
      "Data columns (total 12 columns):\n",
      " #   Column                                                Non-Null Count  Dtype  \n",
      "---  ------                                                --------------  -----  \n",
      " 0   ACTUAL_DELIVERY_MINUTES - ESTIMATED_DELIVERY_MINUTES  18706 non-null  int64  \n",
      " 1   ITEM_COUNT                                            18706 non-null  int64  \n",
      " 2   USER_LAT                                              18706 non-null  float64\n",
      " 3   USER_LONG                                             18706 non-null  float64\n",
      " 4   VENUE_LAT                                             18706 non-null  float64\n",
      " 5   VENUE_LONG                                            18706 non-null  float64\n",
      " 6   ESTIMATED_DELIVERY_MINUTES                            18706 non-null  int64  \n",
      " 7   ACTUAL_DELIVERY_MINUTES                               18706 non-null  int64  \n",
      " 8   CLOUD_COVERAGE                                        18429 non-null  float64\n",
      " 9   TEMPERATURE                                           18429 non-null  float64\n",
      " 10  WIND_SPEED                                            18429 non-null  float64\n",
      " 11  PRECIPITATION                                         18706 non-null  float64\n",
      "dtypes: float64(8), int64(4)\n",
      "memory usage: 1.9 MB\n"
     ]
    }
   ],
   "source": [
    "df.info()"
   ]
  },
  {
   "cell_type": "code",
   "execution_count": 11,
   "metadata": {},
   "outputs": [
    {
     "data": {
      "text/plain": [
       "DatetimeIndex(['2020-08-01 06:07:00', '2020-08-01 06:17:00',\n",
       "               '2020-08-01 06:54:00', '2020-08-01 07:09:00',\n",
       "               '2020-08-01 07:10:00', '2020-08-01 07:20:00',\n",
       "               '2020-08-01 07:33:00', '2020-08-01 07:44:00',\n",
       "               '2020-08-01 07:59:00', '2020-08-01 08:06:00',\n",
       "               ...\n",
       "               '2020-09-30 18:59:00', '2020-09-30 19:02:00',\n",
       "               '2020-09-30 19:19:00', '2020-09-30 19:20:00',\n",
       "               '2020-09-30 19:24:00', '2020-09-30 19:27:00',\n",
       "               '2020-09-30 19:36:00', '2020-09-30 19:39:00',\n",
       "               '2020-09-30 19:42:00', '2020-09-30 20:04:00'],\n",
       "              dtype='datetime64[ns]', name='TIMESTAMP', length=18706, freq=None)"
      ]
     },
     "execution_count": 11,
     "metadata": {},
     "output_type": "execute_result"
    }
   ],
   "source": [
    "# I find out the TImestamp index as follow:\n",
    "timeorder= df.index\n",
    "timeorder"
   ]
  },
  {
   "cell_type": "markdown",
   "metadata": {},
   "source": [
    "Then, I will reshape the data into Day"
   ]
  },
  {
   "cell_type": "code",
   "execution_count": 12,
   "metadata": {},
   "outputs": [
    {
     "data": {
      "text/html": [
       "<div>\n",
       "<style scoped>\n",
       "    .dataframe tbody tr th:only-of-type {\n",
       "        vertical-align: middle;\n",
       "    }\n",
       "\n",
       "    .dataframe tbody tr th {\n",
       "        vertical-align: top;\n",
       "    }\n",
       "\n",
       "    .dataframe thead th {\n",
       "        text-align: right;\n",
       "    }\n",
       "</style>\n",
       "<table border=\"1\" class=\"dataframe\">\n",
       "  <thead>\n",
       "    <tr style=\"text-align: right;\">\n",
       "      <th></th>\n",
       "      <th>ITEM_COUNT</th>\n",
       "    </tr>\n",
       "    <tr>\n",
       "      <th>TIMESTAMP</th>\n",
       "      <th></th>\n",
       "    </tr>\n",
       "  </thead>\n",
       "  <tbody>\n",
       "    <tr>\n",
       "      <th>2020-08-01</th>\n",
       "      <td>839</td>\n",
       "    </tr>\n",
       "    <tr>\n",
       "      <th>2020-08-02</th>\n",
       "      <td>995</td>\n",
       "    </tr>\n",
       "    <tr>\n",
       "      <th>2020-08-03</th>\n",
       "      <td>616</td>\n",
       "    </tr>\n",
       "    <tr>\n",
       "      <th>2020-08-04</th>\n",
       "      <td>565</td>\n",
       "    </tr>\n",
       "    <tr>\n",
       "      <th>2020-08-05</th>\n",
       "      <td>704</td>\n",
       "    </tr>\n",
       "    <tr>\n",
       "      <th>...</th>\n",
       "      <td>...</td>\n",
       "    </tr>\n",
       "    <tr>\n",
       "      <th>2020-09-26</th>\n",
       "      <td>1034</td>\n",
       "    </tr>\n",
       "    <tr>\n",
       "      <th>2020-09-27</th>\n",
       "      <td>1162</td>\n",
       "    </tr>\n",
       "    <tr>\n",
       "      <th>2020-09-28</th>\n",
       "      <td>764</td>\n",
       "    </tr>\n",
       "    <tr>\n",
       "      <th>2020-09-29</th>\n",
       "      <td>692</td>\n",
       "    </tr>\n",
       "    <tr>\n",
       "      <th>2020-09-30</th>\n",
       "      <td>879</td>\n",
       "    </tr>\n",
       "  </tbody>\n",
       "</table>\n",
       "<p>61 rows × 1 columns</p>\n",
       "</div>"
      ],
      "text/plain": [
       "            ITEM_COUNT\n",
       "TIMESTAMP             \n",
       "2020-08-01         839\n",
       "2020-08-02         995\n",
       "2020-08-03         616\n",
       "2020-08-04         565\n",
       "2020-08-05         704\n",
       "...                ...\n",
       "2020-09-26        1034\n",
       "2020-09-27        1162\n",
       "2020-09-28         764\n",
       "2020-09-29         692\n",
       "2020-09-30         879\n",
       "\n",
       "[61 rows x 1 columns]"
      ]
     },
     "execution_count": 12,
     "metadata": {},
     "output_type": "execute_result"
    }
   ],
   "source": [
    "numberoforderinaday=df.resample('D').sum().iloc[:,:2].drop('ACTUAL_DELIVERY_MINUTES - ESTIMATED_DELIVERY_MINUTES',axis=1)\n",
    "numberoforderinaday\n"
   ]
  },
  {
   "cell_type": "code",
   "execution_count": 13,
   "metadata": {},
   "outputs": [
    {
     "name": "stdout",
     "output_type": "stream",
     "text": [
      "last date having the sales: 2020-09-30 20:04:00\n"
     ]
    }
   ],
   "source": [
    "# I want to know the final day having the order in given data:\n",
    "last_data_set= df.iloc[-1:].index[0]\n",
    "print('last date having the sales:', last_data_set)"
   ]
  },
  {
   "cell_type": "markdown",
   "metadata": {},
   "source": [
    "My idea is to use ARIMA model to find the forecast for graph and use LinearRegression() to find the specific prediction values"
   ]
  },
  {
   "cell_type": "markdown",
   "metadata": {},
   "source": [
    "Because I want to find between Multiplicative and Additive model, which one will be fit best with given data, so I will decompose with two models."
   ]
  },
  {
   "cell_type": "code",
   "execution_count": 14,
   "metadata": {},
   "outputs": [
    {
     "data": {
      "image/png": "[encoded data removed]",
      "text/plain": [
       "<Figure size 432x288 with 4 Axes>"
      ]
     },
     "execution_count": 14,
     "metadata": {},
     "output_type": "execute_result"
    },
    {
     "data": {
      "image/png": "[encoded data removed]",
      "text/plain": [
       "<Figure size 432x288 with 4 Axes>"
      ]
     },
     "metadata": {
      "needs_background": "light"
     },
     "output_type": "display_data"
    }
   ],
   "source": [
    "#ETS Decomposition:\n",
    "result= seasonal_decompose(numberoforderinaday['ITEM_COUNT'], model='multiplicative')\n",
    "result.plot()"
   ]
  },
  {
   "cell_type": "code",
   "execution_count": 15,
   "metadata": {},
   "outputs": [
    {
     "name": "stdout",
     "output_type": "stream",
     "text": [
      "Performing stepwise search to minimize aic\n",
      " ARIMA(1,0,1)(0,1,1)[12] intercept   : AIC=inf, Time=0.75 sec\n",
      " ARIMA(0,0,0)(0,1,0)[12] intercept   : AIC=697.249, Time=0.01 sec\n",
      " ARIMA(1,0,0)(1,1,0)[12] intercept   : AIC=685.919, Time=0.21 sec\n",
      " ARIMA(0,0,1)(0,1,1)[12] intercept   : AIC=inf, Time=0.41 sec\n",
      " ARIMA(0,0,0)(0,1,0)[12]             : AIC=695.835, Time=0.02 sec\n",
      " ARIMA(1,0,0)(0,1,0)[12] intercept   : AIC=692.434, Time=0.03 sec\n",
      " ARIMA(1,0,0)(2,1,0)[12] intercept   : AIC=672.991, Time=1.10 sec\n",
      " ARIMA(1,0,0)(2,1,1)[12] intercept   : AIC=inf, Time=1.40 sec\n",
      " ARIMA(1,0,0)(1,1,1)[12] intercept   : AIC=inf, Time=0.67 sec\n",
      " ARIMA(0,0,0)(2,1,0)[12] intercept   : AIC=672.306, Time=0.59 sec\n",
      " ARIMA(0,0,0)(1,1,0)[12] intercept   : AIC=692.309, Time=0.16 sec\n",
      " ARIMA(0,0,0)(2,1,1)[12] intercept   : AIC=inf, Time=0.97 sec\n",
      " ARIMA(0,0,0)(1,1,1)[12] intercept   : AIC=inf, Time=0.38 sec\n",
      " ARIMA(0,0,1)(2,1,0)[12] intercept   : AIC=669.190, Time=0.79 sec\n",
      " ARIMA(0,0,1)(1,1,0)[12] intercept   : AIC=677.815, Time=0.32 sec\n",
      " ARIMA(0,0,1)(2,1,1)[12] intercept   : AIC=inf, Time=0.97 sec\n",
      " ARIMA(0,0,1)(1,1,1)[12] intercept   : AIC=inf, Time=0.54 sec\n",
      " ARIMA(1,0,1)(2,1,0)[12] intercept   : AIC=669.631, Time=1.55 sec\n",
      " ARIMA(0,0,2)(2,1,0)[12] intercept   : AIC=inf, Time=0.95 sec\n",
      " ARIMA(1,0,2)(2,1,0)[12] intercept   : AIC=inf, Time=1.59 sec\n",
      " ARIMA(0,0,1)(2,1,0)[12]             : AIC=669.228, Time=0.36 sec\n",
      "\n",
      "Best model:  ARIMA(0,0,1)(2,1,0)[12] intercept\n",
      "Total fit time: 13.803 seconds\n"
     ]
    },
    {
     "data": {
      "text/html": [
       "<table class=\"simpletable\">\n",
       "<caption>SARIMAX Results</caption>\n",
       "<tr>\n",
       "  <th>Dep. Variable:</th>                  <td>y</td>                <th>  No. Observations:  </th>    <td>61</td>   \n",
       "</tr>\n",
       "<tr>\n",
       "  <th>Model:</th>           <td>SARIMAX(0, 0, 1)x(2, 1, [], 12)</td> <th>  Log Likelihood     </th> <td>-329.595</td>\n",
       "</tr>\n",
       "<tr>\n",
       "  <th>Date:</th>                   <td>Sun, 31 Jan 2021</td>         <th>  AIC                </th>  <td>669.190</td>\n",
       "</tr>\n",
       "<tr>\n",
       "  <th>Time:</th>                       <td>18:05:33</td>             <th>  BIC                </th>  <td>678.649</td>\n",
       "</tr>\n",
       "<tr>\n",
       "  <th>Sample:</th>                         <td>0</td>                <th>  HQIC               </th>  <td>672.779</td>\n",
       "</tr>\n",
       "<tr>\n",
       "  <th></th>                              <td> - 61</td>              <th>                     </th>     <td> </td>   \n",
       "</tr>\n",
       "<tr>\n",
       "  <th>Covariance Type:</th>               <td>opg</td>               <th>                     </th>     <td> </td>   \n",
       "</tr>\n",
       "</table>\n",
       "<table class=\"simpletable\">\n",
       "<tr>\n",
       "      <td></td>         <th>coef</th>     <th>std err</th>      <th>z</th>      <th>P>|z|</th>  <th>[0.025</th>    <th>0.975]</th>  \n",
       "</tr>\n",
       "<tr>\n",
       "  <th>intercept</th> <td>   71.1362</td> <td>   59.903</td> <td>    1.188</td> <td> 0.235</td> <td>  -46.271</td> <td>  188.543</td>\n",
       "</tr>\n",
       "<tr>\n",
       "  <th>ma.L1</th>     <td>    0.5104</td> <td>    0.195</td> <td>    2.618</td> <td> 0.009</td> <td>    0.128</td> <td>    0.892</td>\n",
       "</tr>\n",
       "<tr>\n",
       "  <th>ar.S.L12</th>  <td>   -0.6791</td> <td>    0.167</td> <td>   -4.060</td> <td> 0.000</td> <td>   -1.007</td> <td>   -0.351</td>\n",
       "</tr>\n",
       "<tr>\n",
       "  <th>ar.S.L24</th>  <td>   -0.6020</td> <td>    0.178</td> <td>   -3.382</td> <td> 0.001</td> <td>   -0.951</td> <td>   -0.253</td>\n",
       "</tr>\n",
       "<tr>\n",
       "  <th>sigma2</th>    <td> 3.138e+04</td> <td> 7470.985</td> <td>    4.200</td> <td> 0.000</td> <td> 1.67e+04</td> <td>  4.6e+04</td>\n",
       "</tr>\n",
       "</table>\n",
       "<table class=\"simpletable\">\n",
       "<tr>\n",
       "  <th>Ljung-Box (Q):</th>          <td>107.98</td> <th>  Jarque-Bera (JB):  </th> <td>0.21</td>\n",
       "</tr>\n",
       "<tr>\n",
       "  <th>Prob(Q):</th>                 <td>0.00</td>  <th>  Prob(JB):          </th> <td>0.90</td>\n",
       "</tr>\n",
       "<tr>\n",
       "  <th>Heteroskedasticity (H):</th>  <td>0.84</td>  <th>  Skew:              </th> <td>0.09</td>\n",
       "</tr>\n",
       "<tr>\n",
       "  <th>Prob(H) (two-sided):</th>     <td>0.73</td>  <th>  Kurtosis:          </th> <td>3.26</td>\n",
       "</tr>\n",
       "</table><br/><br/>Warnings:<br/>[1] Covariance matrix calculated using the outer product of gradients (complex-step)."
      ],
      "text/plain": [
       "<class 'statsmodels.iolib.summary.Summary'>\n",
       "\"\"\"\n",
       "                                      SARIMAX Results                                      \n",
       "===========================================================================================\n",
       "Dep. Variable:                                   y   No. Observations:                   61\n",
       "Model:             SARIMAX(0, 0, 1)x(2, 1, [], 12)   Log Likelihood                -329.595\n",
       "Date:                             Sun, 31 Jan 2021   AIC                            669.190\n",
       "Time:                                     18:05:33   BIC                            678.649\n",
       "Sample:                                          0   HQIC                           672.779\n",
       "                                              - 61                                         \n",
       "Covariance Type:                               opg                                         \n",
       "==============================================================================\n",
       "                 coef    std err          z      P>|z|      [0.025      0.975]\n",
       "------------------------------------------------------------------------------\n",
       "intercept     71.1362     59.903      1.188      0.235     -46.271     188.543\n",
       "ma.L1          0.5104      0.195      2.618      0.009       0.128       0.892\n",
       "ar.S.L12      -0.6791      0.167     -4.060      0.000      -1.007      -0.351\n",
       "ar.S.L24      -0.6020      0.178     -3.382      0.001      -0.951      -0.253\n",
       "sigma2      3.138e+04   7470.985      4.200      0.000    1.67e+04     4.6e+04\n",
       "===================================================================================\n",
       "Ljung-Box (Q):                      107.98   Jarque-Bera (JB):                 0.21\n",
       "Prob(Q):                              0.00   Prob(JB):                         0.90\n",
       "Heteroskedasticity (H):               0.84   Skew:                             0.09\n",
       "Prob(H) (two-sided):                  0.73   Kurtosis:                         3.26\n",
       "===================================================================================\n",
       "\n",
       "Warnings:\n",
       "[1] Covariance matrix calculated using the outer product of gradients (complex-step).\n",
       "\"\"\""
      ]
     },
     "execution_count": 15,
     "metadata": {},
     "output_type": "execute_result"
    }
   ],
   "source": [
    "from pmdarima import auto_arima\n",
    "import warnings \n",
    "warnings.filterwarnings('ignore')\n",
    "value_fit= auto_arima(numberoforderinaday['ITEM_COUNT'], start_p=1, start_q=1, max_p=3, max_q=3, m=12, start_P= 0, seasonal=True, d=None, D=1, trace= True, error_action='ignore', supress_warnings= True, stepwise=True)\n",
    "value_fit.summary()\n"
   ]
  },
  {
   "cell_type": "markdown",
   "metadata": {},
   "source": [
    "So the best model:  ARIMA(0,0,1)(2,1,0)[12] intercept. I will this value for the seasonal order to Sarimax model"
   ]
  },
  {
   "cell_type": "code",
   "execution_count": 17,
   "metadata": {},
   "outputs": [
    {
     "name": "stdout",
     "output_type": "stream",
     "text": [
      "            ITEM_COUNT\n",
      "TIMESTAMP             \n",
      "2020-08-01         839\n",
      "2020-08-02         995\n",
      "2020-08-03         616\n",
      "2020-08-04         565\n",
      "2020-08-05         704\n",
      "2020-08-06         786\n",
      "2020-08-07         826\n",
      "2020-08-08         826\n",
      "2020-08-09        1012\n",
      "2020-08-10         702\n",
      "2020-08-11         668\n",
      "2020-08-12         652\n",
      "2020-08-13         730\n",
      "2020-08-14         944\n",
      "2020-08-15        1054\n",
      "2020-08-16         926\n",
      "2020-08-17         581\n",
      "2020-08-18         598\n",
      "2020-08-19         635\n",
      "2020-08-20         641\n",
      "2020-08-21         915\n",
      "2020-08-22        1223\n",
      "2020-08-23        1036\n",
      "2020-08-24         636\n",
      "2020-08-25         741\n",
      "2020-08-26         705\n",
      "2020-08-27         765\n",
      "2020-08-28         990\n",
      "2020-08-29         797\n",
      "2020-08-30         992\n",
      "2020-08-31         506\n",
      "            ITEM_COUNT\n",
      "TIMESTAMP             \n",
      "2020-09-01         503\n",
      "2020-09-02         752\n",
      "2020-09-03         724\n",
      "2020-09-04         979\n",
      "2020-09-05        1089\n",
      "2020-09-06        1043\n",
      "2020-09-07         541\n",
      "2020-09-08         680\n",
      "2020-09-09         810\n",
      "2020-09-10         754\n",
      "2020-09-11         887\n",
      "2020-09-12        1185\n",
      "2020-09-13        1161\n",
      "2020-09-14         743\n",
      "2020-09-15         723\n",
      "2020-09-16         761\n",
      "2020-09-17         747\n",
      "2020-09-18         871\n",
      "2020-09-19        1144\n",
      "2020-09-20        1067\n",
      "2020-09-21         738\n",
      "2020-09-22         730\n",
      "2020-09-23         755\n",
      "2020-09-24         718\n",
      "2020-09-25        1044\n",
      "2020-09-26        1034\n",
      "2020-09-27        1162\n",
      "2020-09-28         764\n",
      "2020-09-29         692\n",
      "2020-09-30         879\n"
     ]
    },
    {
     "data": {
      "text/html": [
       "<table class=\"simpletable\">\n",
       "<caption>SARIMAX Results</caption>\n",
       "<tr>\n",
       "  <th>Dep. Variable:</th>             <td>ITEM_COUNT</td>            <th>  No. Observations:  </th>    <td>31</td>   \n",
       "</tr>\n",
       "<tr>\n",
       "  <th>Model:</th>           <td>SARIMAX(0, 0, 1)x(2, 1, [], 12)</td> <th>  Log Likelihood     </th> <td>-129.314</td>\n",
       "</tr>\n",
       "<tr>\n",
       "  <th>Date:</th>                   <td>Sun, 31 Jan 2021</td>         <th>  AIC                </th>  <td>266.628</td>\n",
       "</tr>\n",
       "<tr>\n",
       "  <th>Time:</th>                       <td>18:06:55</td>             <th>  BIC                </th>  <td>270.405</td>\n",
       "</tr>\n",
       "<tr>\n",
       "  <th>Sample:</th>                    <td>08-01-2020</td>            <th>  HQIC               </th>  <td>267.267</td>\n",
       "</tr>\n",
       "<tr>\n",
       "  <th></th>                          <td>- 08-31-2020</td>           <th>                     </th>     <td> </td>   \n",
       "</tr>\n",
       "<tr>\n",
       "  <th>Covariance Type:</th>               <td>opg</td>               <th>                     </th>     <td> </td>   \n",
       "</tr>\n",
       "</table>\n",
       "<table class=\"simpletable\">\n",
       "<tr>\n",
       "      <td></td>        <th>coef</th>     <th>std err</th>      <th>z</th>      <th>P>|z|</th>  <th>[0.025</th>    <th>0.975]</th>  \n",
       "</tr>\n",
       "<tr>\n",
       "  <th>ma.L1</th>    <td>    0.6885</td> <td>    0.520</td> <td>    1.324</td> <td> 0.186</td> <td>   -0.331</td> <td>    1.708</td>\n",
       "</tr>\n",
       "<tr>\n",
       "  <th>ar.S.L12</th> <td>   -0.1863</td> <td>    1.827</td> <td>   -0.102</td> <td> 0.919</td> <td>   -3.768</td> <td>    3.395</td>\n",
       "</tr>\n",
       "<tr>\n",
       "  <th>ar.S.L24</th> <td>   -0.5754</td> <td>    1.722</td> <td>   -0.334</td> <td> 0.738</td> <td>   -3.950</td> <td>    2.799</td>\n",
       "</tr>\n",
       "<tr>\n",
       "  <th>sigma2</th>   <td> 3.078e+04</td> <td> 9.18e+04</td> <td>    0.335</td> <td> 0.738</td> <td>-1.49e+05</td> <td> 2.11e+05</td>\n",
       "</tr>\n",
       "</table>\n",
       "<table class=\"simpletable\">\n",
       "<tr>\n",
       "  <th>Ljung-Box (Q):</th>          <td>25.53</td> <th>  Jarque-Bera (JB):  </th> <td>2.26</td>\n",
       "</tr>\n",
       "<tr>\n",
       "  <th>Prob(Q):</th>                <td>0.11</td>  <th>  Prob(JB):          </th> <td>0.32</td>\n",
       "</tr>\n",
       "<tr>\n",
       "  <th>Heteroskedasticity (H):</th> <td>1.42</td>  <th>  Skew:              </th> <td>0.83</td>\n",
       "</tr>\n",
       "<tr>\n",
       "  <th>Prob(H) (two-sided):</th>    <td>0.68</td>  <th>  Kurtosis:          </th> <td>3.31</td>\n",
       "</tr>\n",
       "</table><br/><br/>Warnings:<br/>[1] Covariance matrix calculated using the outer product of gradients (complex-step)."
      ],
      "text/plain": [
       "<class 'statsmodels.iolib.summary.Summary'>\n",
       "\"\"\"\n",
       "                                      SARIMAX Results                                      \n",
       "===========================================================================================\n",
       "Dep. Variable:                          ITEM_COUNT   No. Observations:                   31\n",
       "Model:             SARIMAX(0, 0, 1)x(2, 1, [], 12)   Log Likelihood                -129.314\n",
       "Date:                             Sun, 31 Jan 2021   AIC                            266.628\n",
       "Time:                                     18:06:55   BIC                            270.405\n",
       "Sample:                                 08-01-2020   HQIC                           267.267\n",
       "                                      - 08-31-2020                                         \n",
       "Covariance Type:                               opg                                         \n",
       "==============================================================================\n",
       "                 coef    std err          z      P>|z|      [0.025      0.975]\n",
       "------------------------------------------------------------------------------\n",
       "ma.L1          0.6885      0.520      1.324      0.186      -0.331       1.708\n",
       "ar.S.L12      -0.1863      1.827     -0.102      0.919      -3.768       3.395\n",
       "ar.S.L24      -0.5754      1.722     -0.334      0.738      -3.950       2.799\n",
       "sigma2      3.078e+04   9.18e+04      0.335      0.738   -1.49e+05    2.11e+05\n",
       "===================================================================================\n",
       "Ljung-Box (Q):                       25.53   Jarque-Bera (JB):                 2.26\n",
       "Prob(Q):                              0.11   Prob(JB):                         0.32\n",
       "Heteroskedasticity (H):               1.42   Skew:                             0.83\n",
       "Prob(H) (two-sided):                  0.68   Kurtosis:                         3.31\n",
       "===================================================================================\n",
       "\n",
       "Warnings:\n",
       "[1] Covariance matrix calculated using the outer product of gradients (complex-step).\n",
       "\"\"\""
      ]
     },
     "execution_count": 17,
     "metadata": {},
     "output_type": "execute_result"
    }
   ],
   "source": [
    "#Fit Arima model\n",
    "#split data into train and test sets:\n",
    "train= numberoforderinaday.iloc[:len(numberoforderinaday)-30]\n",
    "print(pd.DataFrame(train))\n",
    "test=numberoforderinaday.iloc[len(numberoforderinaday)-30:]\n",
    "print(test)\n",
    "#fit a sarimax (0,0,1)(2,1,0)[12]\n",
    "from statsmodels.tsa.statespace.sarimax import SARIMAX\n",
    "model= SARIMAX(train['ITEM_COUNT'], order=(0,0,1), seasonal_order=(2,1,0,12))\n",
    "result=model.fit()\n",
    "result.summary()"
   ]
  },
  {
   "cell_type": "code",
   "execution_count": 18,
   "metadata": {},
   "outputs": [
    {
     "data": {
      "text/plain": [
       "<matplotlib.axes._subplots.AxesSubplot at 0x10903bca0>"
      ]
     },
     "execution_count": 18,
     "metadata": {},
     "output_type": "execute_result"
    },
    {
     "data": {
      "image/png": "[encoded data removed]",
      "text/plain": [
       "<Figure size 432x288 with 1 Axes>"
      ]
     },
     "metadata": {
      "needs_background": "light"
     },
     "output_type": "display_data"
    }
   ],
   "source": [
    "#Plotting the data with multiplicatuve model\n",
    "start=len(train)\n",
    "end=len(train) +len(test)-1\n",
    "#predictions for oneyeat against the test set\n",
    "predictionsafterthelastdateindata= result.predict(start, end, typ='levels').rename('Predictions')\n",
    "predictionsafterthelastdateindata.plot(color='r', legend=True)\n",
    "test['ITEM_COUNT'].plot(color='b', legend=True)"
   ]
  },
  {
   "cell_type": "markdown",
   "metadata": {},
   "source": [
    "Next, I need to find out the RMSE and MSE value for the multiplicative model"
   ]
  },
  {
   "cell_type": "code",
   "execution_count": 19,
   "metadata": {},
   "outputs": [
    {
     "name": "stdout",
     "output_type": "stream",
     "text": [
      "rmse is 237.68569085549652\n",
      "mse is 56494.48763745466\n"
     ]
    }
   ],
   "source": [
    "from sklearn.metrics import mean_squared_error\n",
    "from statsmodels.tools.eval_measures import rmse\n",
    "# Find the root mean squared error\n",
    "root_mean_squared_error= rmse(test['ITEM_COUNT'], predictionsafterthelastdateindata)\n",
    "print('rmse is', root_mean_squared_error)\n",
    "mse=mean_squared_error(test['ITEM_COUNT'], predictionsafterthelastdateindata)\n",
    "print('mse is', mse )"
   ]
  },
  {
   "cell_type": "markdown",
   "metadata": {},
   "source": [
    "Next, i will do the same with Additive model"
   ]
  },
  {
   "cell_type": "code",
   "execution_count": 20,
   "metadata": {},
   "outputs": [
    {
     "data": {
      "image/png": "[encoded data removed]",
      "text/plain": [
       "<Figure size 432x288 with 4 Axes>"
      ]
     },
     "execution_count": 20,
     "metadata": {},
     "output_type": "execute_result"
    },
    {
     "data": {
      "image/png": "[encoded data removed]",
      "text/plain": [
       "<Figure size 432x288 with 4 Axes>"
      ]
     },
     "metadata": {
      "needs_background": "light"
     },
     "output_type": "display_data"
    }
   ],
   "source": [
    "#ETS Decomposition:\n",
    "result= seasonal_decompose(numberoforderinaday['ITEM_COUNT'], model='additive')\n",
    "result.plot()"
   ]
  },
  {
   "cell_type": "code",
   "execution_count": 21,
   "metadata": {},
   "outputs": [
    {
     "name": "stdout",
     "output_type": "stream",
     "text": [
      "Performing stepwise search to minimize aic\n",
      " ARIMA(1,0,1)(0,1,1)[12] intercept   : AIC=inf, Time=0.64 sec\n",
      " ARIMA(0,0,0)(0,1,0)[12] intercept   : AIC=697.249, Time=0.01 sec\n",
      " ARIMA(1,0,0)(1,1,0)[12] intercept   : AIC=685.919, Time=0.18 sec\n",
      " ARIMA(0,0,1)(0,1,1)[12] intercept   : AIC=inf, Time=0.33 sec\n",
      " ARIMA(0,0,0)(0,1,0)[12]             : AIC=695.835, Time=0.01 sec\n",
      " ARIMA(1,0,0)(0,1,0)[12] intercept   : AIC=692.434, Time=0.03 sec\n",
      " ARIMA(1,0,0)(2,1,0)[12] intercept   : AIC=672.991, Time=1.11 sec\n",
      " ARIMA(1,0,0)(2,1,1)[12] intercept   : AIC=inf, Time=1.28 sec\n",
      " ARIMA(1,0,0)(1,1,1)[12] intercept   : AIC=inf, Time=0.60 sec\n",
      " ARIMA(0,0,0)(2,1,0)[12] intercept   : AIC=672.306, Time=0.50 sec\n",
      " ARIMA(0,0,0)(1,1,0)[12] intercept   : AIC=692.309, Time=0.16 sec\n",
      " ARIMA(0,0,0)(2,1,1)[12] intercept   : AIC=inf, Time=0.86 sec\n",
      " ARIMA(0,0,0)(1,1,1)[12] intercept   : AIC=inf, Time=0.30 sec\n",
      " ARIMA(0,0,1)(2,1,0)[12] intercept   : AIC=669.190, Time=0.71 sec\n",
      " ARIMA(0,0,1)(1,1,0)[12] intercept   : AIC=677.815, Time=0.26 sec\n",
      " ARIMA(0,0,1)(2,1,1)[12] intercept   : AIC=inf, Time=0.87 sec\n",
      " ARIMA(0,0,1)(1,1,1)[12] intercept   : AIC=inf, Time=0.45 sec\n",
      " ARIMA(1,0,1)(2,1,0)[12] intercept   : AIC=669.631, Time=1.48 sec\n",
      " ARIMA(0,0,2)(2,1,0)[12] intercept   : AIC=inf, Time=0.95 sec\n",
      " ARIMA(1,0,2)(2,1,0)[12] intercept   : AIC=inf, Time=1.51 sec\n",
      " ARIMA(0,0,1)(2,1,0)[12]             : AIC=669.228, Time=0.37 sec\n",
      "\n",
      "Best model:  ARIMA(0,0,1)(2,1,0)[12] intercept\n",
      "Total fit time: 12.620 seconds\n"
     ]
    },
    {
     "data": {
      "text/html": [
       "<table class=\"simpletable\">\n",
       "<caption>SARIMAX Results</caption>\n",
       "<tr>\n",
       "  <th>Dep. Variable:</th>                  <td>y</td>                <th>  No. Observations:  </th>    <td>61</td>   \n",
       "</tr>\n",
       "<tr>\n",
       "  <th>Model:</th>           <td>SARIMAX(0, 0, 1)x(2, 1, [], 12)</td> <th>  Log Likelihood     </th> <td>-329.595</td>\n",
       "</tr>\n",
       "<tr>\n",
       "  <th>Date:</th>                   <td>Sun, 31 Jan 2021</td>         <th>  AIC                </th>  <td>669.190</td>\n",
       "</tr>\n",
       "<tr>\n",
       "  <th>Time:</th>                       <td>18:07:25</td>             <th>  BIC                </th>  <td>678.649</td>\n",
       "</tr>\n",
       "<tr>\n",
       "  <th>Sample:</th>                         <td>0</td>                <th>  HQIC               </th>  <td>672.779</td>\n",
       "</tr>\n",
       "<tr>\n",
       "  <th></th>                              <td> - 61</td>              <th>                     </th>     <td> </td>   \n",
       "</tr>\n",
       "<tr>\n",
       "  <th>Covariance Type:</th>               <td>opg</td>               <th>                     </th>     <td> </td>   \n",
       "</tr>\n",
       "</table>\n",
       "<table class=\"simpletable\">\n",
       "<tr>\n",
       "      <td></td>         <th>coef</th>     <th>std err</th>      <th>z</th>      <th>P>|z|</th>  <th>[0.025</th>    <th>0.975]</th>  \n",
       "</tr>\n",
       "<tr>\n",
       "  <th>intercept</th> <td>   71.1362</td> <td>   59.903</td> <td>    1.188</td> <td> 0.235</td> <td>  -46.271</td> <td>  188.543</td>\n",
       "</tr>\n",
       "<tr>\n",
       "  <th>ma.L1</th>     <td>    0.5104</td> <td>    0.195</td> <td>    2.618</td> <td> 0.009</td> <td>    0.128</td> <td>    0.892</td>\n",
       "</tr>\n",
       "<tr>\n",
       "  <th>ar.S.L12</th>  <td>   -0.6791</td> <td>    0.167</td> <td>   -4.060</td> <td> 0.000</td> <td>   -1.007</td> <td>   -0.351</td>\n",
       "</tr>\n",
       "<tr>\n",
       "  <th>ar.S.L24</th>  <td>   -0.6020</td> <td>    0.178</td> <td>   -3.382</td> <td> 0.001</td> <td>   -0.951</td> <td>   -0.253</td>\n",
       "</tr>\n",
       "<tr>\n",
       "  <th>sigma2</th>    <td> 3.138e+04</td> <td> 7470.985</td> <td>    4.200</td> <td> 0.000</td> <td> 1.67e+04</td> <td>  4.6e+04</td>\n",
       "</tr>\n",
       "</table>\n",
       "<table class=\"simpletable\">\n",
       "<tr>\n",
       "  <th>Ljung-Box (Q):</th>          <td>107.98</td> <th>  Jarque-Bera (JB):  </th> <td>0.21</td>\n",
       "</tr>\n",
       "<tr>\n",
       "  <th>Prob(Q):</th>                 <td>0.00</td>  <th>  Prob(JB):          </th> <td>0.90</td>\n",
       "</tr>\n",
       "<tr>\n",
       "  <th>Heteroskedasticity (H):</th>  <td>0.84</td>  <th>  Skew:              </th> <td>0.09</td>\n",
       "</tr>\n",
       "<tr>\n",
       "  <th>Prob(H) (two-sided):</th>     <td>0.73</td>  <th>  Kurtosis:          </th> <td>3.26</td>\n",
       "</tr>\n",
       "</table><br/><br/>Warnings:<br/>[1] Covariance matrix calculated using the outer product of gradients (complex-step)."
      ],
      "text/plain": [
       "<class 'statsmodels.iolib.summary.Summary'>\n",
       "\"\"\"\n",
       "                                      SARIMAX Results                                      \n",
       "===========================================================================================\n",
       "Dep. Variable:                                   y   No. Observations:                   61\n",
       "Model:             SARIMAX(0, 0, 1)x(2, 1, [], 12)   Log Likelihood                -329.595\n",
       "Date:                             Sun, 31 Jan 2021   AIC                            669.190\n",
       "Time:                                     18:07:25   BIC                            678.649\n",
       "Sample:                                          0   HQIC                           672.779\n",
       "                                              - 61                                         \n",
       "Covariance Type:                               opg                                         \n",
       "==============================================================================\n",
       "                 coef    std err          z      P>|z|      [0.025      0.975]\n",
       "------------------------------------------------------------------------------\n",
       "intercept     71.1362     59.903      1.188      0.235     -46.271     188.543\n",
       "ma.L1          0.5104      0.195      2.618      0.009       0.128       0.892\n",
       "ar.S.L12      -0.6791      0.167     -4.060      0.000      -1.007      -0.351\n",
       "ar.S.L24      -0.6020      0.178     -3.382      0.001      -0.951      -0.253\n",
       "sigma2      3.138e+04   7470.985      4.200      0.000    1.67e+04     4.6e+04\n",
       "===================================================================================\n",
       "Ljung-Box (Q):                      107.98   Jarque-Bera (JB):                 0.21\n",
       "Prob(Q):                              0.00   Prob(JB):                         0.90\n",
       "Heteroskedasticity (H):               0.84   Skew:                             0.09\n",
       "Prob(H) (two-sided):                  0.73   Kurtosis:                         3.26\n",
       "===================================================================================\n",
       "\n",
       "Warnings:\n",
       "[1] Covariance matrix calculated using the outer product of gradients (complex-step).\n",
       "\"\"\""
      ]
     },
     "execution_count": 21,
     "metadata": {},
     "output_type": "execute_result"
    }
   ],
   "source": [
    "\n",
    "from pmdarima import auto_arima\n",
    "import warnings \n",
    "warnings.filterwarnings('ignore')\n",
    "value_fit= auto_arima(numberoforderinaday['ITEM_COUNT'], start_p=1, start_q=1, max_p=3, max_q=3, m=12, start_P= 0, seasonal=True, d=None, D=1, trace= True, error_action='ignore', supress_warnings= True, stepwise=True)\n",
    "value_fit.summary()"
   ]
  },
  {
   "cell_type": "code",
   "execution_count": 22,
   "metadata": {},
   "outputs": [
    {
     "name": "stdout",
     "output_type": "stream",
     "text": [
      "            ITEM_COUNT\n",
      "TIMESTAMP             \n",
      "2020-08-01         839\n",
      "2020-08-02         995\n",
      "2020-08-03         616\n",
      "2020-08-04         565\n",
      "2020-08-05         704\n",
      "2020-08-06         786\n",
      "2020-08-07         826\n",
      "2020-08-08         826\n",
      "2020-08-09        1012\n",
      "2020-08-10         702\n",
      "2020-08-11         668\n",
      "2020-08-12         652\n",
      "2020-08-13         730\n",
      "2020-08-14         944\n",
      "2020-08-15        1054\n",
      "2020-08-16         926\n",
      "2020-08-17         581\n",
      "2020-08-18         598\n",
      "2020-08-19         635\n",
      "2020-08-20         641\n",
      "2020-08-21         915\n",
      "2020-08-22        1223\n",
      "2020-08-23        1036\n",
      "2020-08-24         636\n",
      "2020-08-25         741\n",
      "2020-08-26         705\n",
      "2020-08-27         765\n",
      "2020-08-28         990\n",
      "2020-08-29         797\n",
      "2020-08-30         992\n",
      "2020-08-31         506\n",
      "            ITEM_COUNT\n",
      "TIMESTAMP             \n",
      "2020-09-01         503\n",
      "2020-09-02         752\n",
      "2020-09-03         724\n",
      "2020-09-04         979\n",
      "2020-09-05        1089\n",
      "2020-09-06        1043\n",
      "2020-09-07         541\n",
      "2020-09-08         680\n",
      "2020-09-09         810\n",
      "2020-09-10         754\n",
      "2020-09-11         887\n",
      "2020-09-12        1185\n",
      "2020-09-13        1161\n",
      "2020-09-14         743\n",
      "2020-09-15         723\n",
      "2020-09-16         761\n",
      "2020-09-17         747\n",
      "2020-09-18         871\n",
      "2020-09-19        1144\n",
      "2020-09-20        1067\n",
      "2020-09-21         738\n",
      "2020-09-22         730\n",
      "2020-09-23         755\n",
      "2020-09-24         718\n",
      "2020-09-25        1044\n",
      "2020-09-26        1034\n",
      "2020-09-27        1162\n",
      "2020-09-28         764\n",
      "2020-09-29         692\n",
      "2020-09-30         879\n"
     ]
    },
    {
     "data": {
      "text/html": [
       "<table class=\"simpletable\">\n",
       "<caption>SARIMAX Results</caption>\n",
       "<tr>\n",
       "  <th>Dep. Variable:</th>             <td>ITEM_COUNT</td>            <th>  No. Observations:  </th>    <td>61</td>   \n",
       "</tr>\n",
       "<tr>\n",
       "  <th>Model:</th>           <td>SARIMAX(0, 0, 1)x(2, 1, [], 12)</td> <th>  Log Likelihood     </th> <td>-330.614</td>\n",
       "</tr>\n",
       "<tr>\n",
       "  <th>Date:</th>                   <td>Sun, 31 Jan 2021</td>         <th>  AIC                </th>  <td>669.228</td>\n",
       "</tr>\n",
       "<tr>\n",
       "  <th>Time:</th>                       <td>18:07:36</td>             <th>  BIC                </th>  <td>676.795</td>\n",
       "</tr>\n",
       "<tr>\n",
       "  <th>Sample:</th>                    <td>08-01-2020</td>            <th>  HQIC               </th>  <td>672.099</td>\n",
       "</tr>\n",
       "<tr>\n",
       "  <th></th>                          <td>- 09-30-2020</td>           <th>                     </th>     <td> </td>   \n",
       "</tr>\n",
       "<tr>\n",
       "  <th>Covariance Type:</th>               <td>opg</td>               <th>                     </th>     <td> </td>   \n",
       "</tr>\n",
       "</table>\n",
       "<table class=\"simpletable\">\n",
       "<tr>\n",
       "      <td></td>        <th>coef</th>     <th>std err</th>      <th>z</th>      <th>P>|z|</th>  <th>[0.025</th>    <th>0.975]</th>  \n",
       "</tr>\n",
       "<tr>\n",
       "  <th>ma.L1</th>    <td>    0.5419</td> <td>    0.183</td> <td>    2.965</td> <td> 0.003</td> <td>    0.184</td> <td>    0.900</td>\n",
       "</tr>\n",
       "<tr>\n",
       "  <th>ar.S.L12</th> <td>   -0.6609</td> <td>    0.146</td> <td>   -4.536</td> <td> 0.000</td> <td>   -0.947</td> <td>   -0.375</td>\n",
       "</tr>\n",
       "<tr>\n",
       "  <th>ar.S.L24</th> <td>   -0.5634</td> <td>    0.176</td> <td>   -3.196</td> <td> 0.001</td> <td>   -0.909</td> <td>   -0.218</td>\n",
       "</tr>\n",
       "<tr>\n",
       "  <th>sigma2</th>   <td> 3.337e+04</td> <td> 8208.234</td> <td>    4.065</td> <td> 0.000</td> <td> 1.73e+04</td> <td> 4.95e+04</td>\n",
       "</tr>\n",
       "</table>\n",
       "<table class=\"simpletable\">\n",
       "<tr>\n",
       "  <th>Ljung-Box (Q):</th>          <td>106.19</td> <th>  Jarque-Bera (JB):  </th> <td>0.31</td>\n",
       "</tr>\n",
       "<tr>\n",
       "  <th>Prob(Q):</th>                 <td>0.00</td>  <th>  Prob(JB):          </th> <td>0.86</td>\n",
       "</tr>\n",
       "<tr>\n",
       "  <th>Heteroskedasticity (H):</th>  <td>0.85</td>  <th>  Skew:              </th> <td>0.18</td>\n",
       "</tr>\n",
       "<tr>\n",
       "  <th>Prob(H) (two-sided):</th>     <td>0.76</td>  <th>  Kurtosis:          </th> <td>3.14</td>\n",
       "</tr>\n",
       "</table><br/><br/>Warnings:<br/>[1] Covariance matrix calculated using the outer product of gradients (complex-step)."
      ],
      "text/plain": [
       "<class 'statsmodels.iolib.summary.Summary'>\n",
       "\"\"\"\n",
       "                                      SARIMAX Results                                      \n",
       "===========================================================================================\n",
       "Dep. Variable:                          ITEM_COUNT   No. Observations:                   61\n",
       "Model:             SARIMAX(0, 0, 1)x(2, 1, [], 12)   Log Likelihood                -330.614\n",
       "Date:                             Sun, 31 Jan 2021   AIC                            669.228\n",
       "Time:                                     18:07:36   BIC                            676.795\n",
       "Sample:                                 08-01-2020   HQIC                           672.099\n",
       "                                      - 09-30-2020                                         \n",
       "Covariance Type:                               opg                                         \n",
       "==============================================================================\n",
       "                 coef    std err          z      P>|z|      [0.025      0.975]\n",
       "------------------------------------------------------------------------------\n",
       "ma.L1          0.5419      0.183      2.965      0.003       0.184       0.900\n",
       "ar.S.L12      -0.6609      0.146     -4.536      0.000      -0.947      -0.375\n",
       "ar.S.L24      -0.5634      0.176     -3.196      0.001      -0.909      -0.218\n",
       "sigma2      3.337e+04   8208.234      4.065      0.000    1.73e+04    4.95e+04\n",
       "===================================================================================\n",
       "Ljung-Box (Q):                      106.19   Jarque-Bera (JB):                 0.31\n",
       "Prob(Q):                              0.00   Prob(JB):                         0.86\n",
       "Heteroskedasticity (H):               0.85   Skew:                             0.18\n",
       "Prob(H) (two-sided):                  0.76   Kurtosis:                         3.14\n",
       "===================================================================================\n",
       "\n",
       "Warnings:\n",
       "[1] Covariance matrix calculated using the outer product of gradients (complex-step).\n",
       "\"\"\""
      ]
     },
     "execution_count": 22,
     "metadata": {},
     "output_type": "execute_result"
    }
   ],
   "source": [
    "#Fit Arima model\n",
    "#split data into train and test sets:\n",
    "train= numberoforderinaday.iloc[:len(numberoforderinaday)-30]\n",
    "print(pd.DataFrame(train))\n",
    "test=numberoforderinaday.iloc[len(numberoforderinaday)-30:]\n",
    "print(test)\n",
    "#fit a sarimax (0,0,1)(2,1,0)[12]\n",
    "from statsmodels.tsa.statespace.sarimax import SARIMAX\n",
    "model= SARIMAX(numberoforderinaday['ITEM_COUNT'], order=(0,0,1), seasonal_order=(2,1,0,12))\n",
    "result=model.fit()\n",
    "result.summary()"
   ]
  },
  {
   "cell_type": "code",
   "execution_count": 23,
   "metadata": {},
   "outputs": [
    {
     "data": {
      "text/plain": [
       "<matplotlib.axes._subplots.AxesSubplot at 0x124fbb0a0>"
      ]
     },
     "execution_count": 23,
     "metadata": {},
     "output_type": "execute_result"
    },
    {
     "data": {
      "image/png": "[encoded data removed]",
      "text/plain": [
       "<Figure size 432x288 with 1 Axes>"
      ]
     },
     "metadata": {
      "needs_background": "light"
     },
     "output_type": "display_data"
    }
   ],
   "source": [
    "start=len(train)\n",
    "end=len(train) +len(test)-1\n",
    "#predictions for oneyeat against the test set\n",
    "predictionsafterthelastdateindata= result.predict(start, end, typ='levels').rename('Predictions')\n",
    "predictionsafterthelastdateindata.plot(color='r', legend=True)\n",
    "test['ITEM_COUNT'].plot(color='b', legend=True)"
   ]
  },
  {
   "cell_type": "code",
   "execution_count": 24,
   "metadata": {},
   "outputs": [
    {
     "name": "stdout",
     "output_type": "stream",
     "text": [
      "RMSE under the additive model is 194.69810217670425\n",
      "MSE under the additive model is 37907.35099121037\n"
     ]
    }
   ],
   "source": [
    "from sklearn.metrics import mean_squared_error\n",
    "from statsmodels.tools.eval_measures import rmse\n",
    "# Find the root mean squared error\n",
    "root_mean_squared_error= rmse(test['ITEM_COUNT'], predictionsafterthelastdateindata)\n",
    "print('RMSE under the additive model is', root_mean_squared_error)\n",
    "mse=mean_squared_error(test['ITEM_COUNT'], predictionsafterthelastdateindata)\n",
    "print('MSE under the additive model is', mse )"
   ]
  },
  {
   "cell_type": "markdown",
   "metadata": {},
   "source": [
    "I decide to use the Additive model as it has the lower RMSE and MSE value and the gap between Predictions and Actual ( Item_count) seems to less wider than the multiplicative model."
   ]
  },
  {
   "cell_type": "markdown",
   "metadata": {},
   "source": [
    "Next, I will forecast the future trend of next day by fitting to the SARIMAX model"
   ]
  },
  {
   "cell_type": "code",
   "execution_count": 25,
   "metadata": {
    "scrolled": true
   },
   "outputs": [
    {
     "data": {
      "text/plain": [
       "<matplotlib.axes._subplots.AxesSubplot at 0x124fb11c0>"
      ]
     },
     "execution_count": 25,
     "metadata": {},
     "output_type": "execute_result"
    },
    {
     "data": {
      "image/png": "[encoded data removed]",
      "text/plain": [
       "<Figure size 864x360 with 1 Axes>"
      ]
     },
     "metadata": {
      "needs_background": "light"
     },
     "output_type": "display_data"
    }
   ],
   "source": [
    "model= SARIMAX(train['ITEM_COUNT'], order=(0,0,1), seasonal_order=(2,1,0,12))\n",
    "result=model.fit()\n",
    "#fore cast for the next day\n",
    "forecastforthenextday=result.predict(start=len(numberoforderinaday)-1, end=(len(numberoforderinaday)+1), typ='levels').rename('Forecast')\n",
    "numberoforderinaday['ITEM_COUNT'].plot(color='b', figsize=(12,5), legend=True)\n",
    "forecastforthenextday.plot(color='r', legend=True)"
   ]
  },
  {
   "cell_type": "markdown",
   "metadata": {},
   "source": [
    "Then, I will find the specific value for the next day after 2020-09-30"
   ]
  },
  {
   "cell_type": "markdown",
   "metadata": {},
   "source": [
    "Because I want to use LinearRegression to find specific values, I need to have a 2D arrays, which include x and y. Whereas y is the number of item order and X is for the timestamp"
   ]
  },
  {
   "cell_type": "code",
   "execution_count": 26,
   "metadata": {
    "scrolled": true
   },
   "outputs": [
    {
     "data": {
      "text/html": [
       "<div>\n",
       "<style scoped>\n",
       "    .dataframe tbody tr th:only-of-type {\n",
       "        vertical-align: middle;\n",
       "    }\n",
       "\n",
       "    .dataframe tbody tr th {\n",
       "        vertical-align: top;\n",
       "    }\n",
       "\n",
       "    .dataframe thead th {\n",
       "        text-align: right;\n",
       "    }\n",
       "</style>\n",
       "<table border=\"1\" class=\"dataframe\">\n",
       "  <thead>\n",
       "    <tr style=\"text-align: right;\">\n",
       "      <th></th>\n",
       "      <th>0</th>\n",
       "    </tr>\n",
       "  </thead>\n",
       "  <tbody>\n",
       "    <tr>\n",
       "      <th>0</th>\n",
       "      <td>839</td>\n",
       "    </tr>\n",
       "    <tr>\n",
       "      <th>1</th>\n",
       "      <td>995</td>\n",
       "    </tr>\n",
       "    <tr>\n",
       "      <th>2</th>\n",
       "      <td>616</td>\n",
       "    </tr>\n",
       "    <tr>\n",
       "      <th>3</th>\n",
       "      <td>565</td>\n",
       "    </tr>\n",
       "    <tr>\n",
       "      <th>4</th>\n",
       "      <td>704</td>\n",
       "    </tr>\n",
       "    <tr>\n",
       "      <th>...</th>\n",
       "      <td>...</td>\n",
       "    </tr>\n",
       "    <tr>\n",
       "      <th>56</th>\n",
       "      <td>1034</td>\n",
       "    </tr>\n",
       "    <tr>\n",
       "      <th>57</th>\n",
       "      <td>1162</td>\n",
       "    </tr>\n",
       "    <tr>\n",
       "      <th>58</th>\n",
       "      <td>764</td>\n",
       "    </tr>\n",
       "    <tr>\n",
       "      <th>59</th>\n",
       "      <td>692</td>\n",
       "    </tr>\n",
       "    <tr>\n",
       "      <th>60</th>\n",
       "      <td>879</td>\n",
       "    </tr>\n",
       "  </tbody>\n",
       "</table>\n",
       "<p>61 rows × 1 columns</p>\n",
       "</div>"
      ],
      "text/plain": [
       "       0\n",
       "0    839\n",
       "1    995\n",
       "2    616\n",
       "3    565\n",
       "4    704\n",
       "..   ...\n",
       "56  1034\n",
       "57  1162\n",
       "58   764\n",
       "59   692\n",
       "60   879\n",
       "\n",
       "[61 rows x 1 columns]"
      ]
     },
     "execution_count": 26,
     "metadata": {},
     "output_type": "execute_result"
    }
   ],
   "source": [
    "y= np.array(numberoforderinaday['ITEM_COUNT'])\n",
    "pd.DataFrame(y)"
   ]
  },
  {
   "cell_type": "markdown",
   "metadata": {},
   "source": [
    "I convert the number of Item_count in a day into array, my idea is to have 2d array\n",
    "I will use the Linear Regression to predict the next values so i have to find the array for current Item_count"
   ]
  },
  {
   "cell_type": "code",
   "execution_count": 31,
   "metadata": {
    "scrolled": true
   },
   "outputs": [
    {
     "data": {
      "text/plain": [
       "array([ 839,  995,  616,  565,  704,  786,  826,  826, 1012,  702,  668,\n",
       "        652,  730,  944, 1054,  926,  581,  598,  635,  641,  915, 1223,\n",
       "       1036,  636,  741,  705,  765,  990,  797,  992,  506,  503,  752,\n",
       "        724,  979, 1089, 1043,  541,  680,  810,  754,  887, 1185, 1161,\n",
       "        743,  723,  761,  747,  871, 1144, 1067,  738,  730,  755,  718,\n",
       "       1044, 1034, 1162,  764,  692,  879])"
      ]
     },
     "execution_count": 31,
     "metadata": {},
     "output_type": "execute_result"
    }
   ],
   "source": [
    "y= np.array(numberoforderinaday['ITEM_COUNT'])\n",
    "y\n"
   ]
  },
  {
   "cell_type": "markdown",
   "metadata": {},
   "source": [
    "Then I will change the Timestamp into numerical values to apply to LinearRegression"
   ]
  },
  {
   "cell_type": "code",
   "execution_count": 131,
   "metadata": {},
   "outputs": [
    {
     "data": {
      "text/plain": [
       "0     1.596240e+09\n",
       "1     1.596326e+09\n",
       "2     1.596413e+09\n",
       "3     1.596499e+09\n",
       "4     1.596586e+09\n",
       "          ...     \n",
       "56    1.601078e+09\n",
       "57    1.601165e+09\n",
       "58    1.601251e+09\n",
       "59    1.601338e+09\n",
       "60    1.601424e+09\n",
       "Name: TIMESTAMP, Length: 61, dtype: float64"
      ]
     },
     "execution_count": 131,
     "metadata": {},
     "output_type": "execute_result"
    }
   ],
   "source": [
    "datetimeindex=pd.DataFrame(numberoforderinaday.index)\n",
    "numericaldatetime=pd.to_datetime(datetimeindex['TIMESTAMP']).astype(int)/ 10**9\n",
    "numericaldatetime\n"
   ]
  },
  {
   "cell_type": "code",
   "execution_count": 34,
   "metadata": {},
   "outputs": [
    {
     "data": {
      "text/plain": [
       "array([1.5962400e+09, 1.5963264e+09, 1.5964128e+09, 1.5964992e+09,\n",
       "       1.5965856e+09, 1.5966720e+09, 1.5967584e+09, 1.5968448e+09,\n",
       "       1.5969312e+09, 1.5970176e+09, 1.5971040e+09, 1.5971904e+09,\n",
       "       1.5972768e+09, 1.5973632e+09, 1.5974496e+09, 1.5975360e+09,\n",
       "       1.5976224e+09, 1.5977088e+09, 1.5977952e+09, 1.5978816e+09,\n",
       "       1.5979680e+09, 1.5980544e+09, 1.5981408e+09, 1.5982272e+09,\n",
       "       1.5983136e+09, 1.5984000e+09, 1.5984864e+09, 1.5985728e+09,\n",
       "       1.5986592e+09, 1.5987456e+09, 1.5988320e+09, 1.5989184e+09,\n",
       "       1.5990048e+09, 1.5990912e+09, 1.5991776e+09, 1.5992640e+09,\n",
       "       1.5993504e+09, 1.5994368e+09, 1.5995232e+09, 1.5996096e+09,\n",
       "       1.5996960e+09, 1.5997824e+09, 1.5998688e+09, 1.5999552e+09,\n",
       "       1.6000416e+09, 1.6001280e+09, 1.6002144e+09, 1.6003008e+09,\n",
       "       1.6003872e+09, 1.6004736e+09, 1.6005600e+09, 1.6006464e+09,\n",
       "       1.6007328e+09, 1.6008192e+09, 1.6009056e+09, 1.6009920e+09,\n",
       "       1.6010784e+09, 1.6011648e+09, 1.6012512e+09, 1.6013376e+09,\n",
       "       1.6014240e+09])"
      ]
     },
     "execution_count": 34,
     "metadata": {},
     "output_type": "execute_result"
    }
   ],
   "source": [
    "# I define the x-axix, and change the nummerical datetime in to the array\n",
    "X=np.array(numericaldatetime)\n",
    "X"
   ]
  },
  {
   "cell_type": "code",
   "execution_count": 52,
   "metadata": {},
   "outputs": [
    {
     "name": "stdout",
     "output_type": "stream",
     "text": [
      "the intercept value is: -32797.62909233095\n",
      "the coef_ value is: [2.10359616e-05]\n"
     ]
    }
   ],
   "source": [
    "#Making Prediction\n",
    "from sklearn.model_selection import train_test_split\n",
    "X_train, X_test, y_train, y_test = train_test_split(X, y, \n",
    "                                                    test_size=0.2, random_state=0)\n",
    "regressor= LinearRegression()\n",
    "regressor.fit(X_train.reshape(-1,1), y_train)\n",
    "print('the intercept value is:', regressor.intercept_)\n",
    "print('the coef_ value is:',regressor.coef_)"
   ]
  },
  {
   "cell_type": "markdown",
   "metadata": {},
   "source": [
    "It seems like that the coef_ value is small so probably the value prediction of next day for the Item count will be correct."
   ]
  },
  {
   "cell_type": "code",
   "execution_count": 37,
   "metadata": {},
   "outputs": [
    {
     "data": {
      "text/plain": [
       "array([828.06939449, 844.42695821, 889.86463521, 831.70440865,\n",
       "       800.80678829, 784.44922457, 842.60945113, 888.04712813,\n",
       "       853.51449361, 820.79936617, 788.08423873, 798.98928121,\n",
       "       835.33942281])"
      ]
     },
     "execution_count": 37,
     "metadata": {},
     "output_type": "execute_result"
    }
   ],
   "source": [
    "#Making Prediction, I decided to apply the Linear Regression in to find the values of item count in next follwing day, starting from 61th day\n",
    "predictionofnextday= regressor.predict(X_test.reshape(-1,1))\n",
    "predictionofnextday\n"
   ]
  },
  {
   "cell_type": "code",
   "execution_count": 38,
   "metadata": {},
   "outputs": [
    {
     "data": {
      "text/plain": [
       "0    828.069394\n",
       "Name: 0, dtype: float64"
      ]
     },
     "execution_count": 38,
     "metadata": {},
     "output_type": "execute_result"
    }
   ],
   "source": [
    "#I converted the array into DataFrame\n",
    "predictionofnextday=pd.DataFrame(predictionofnextday)\n",
    "# Because I only need the values for the 61th day so I use .loc[0] to get the first index of presionofnextday\n",
    "predictionofnextday.loc[0]"
   ]
  },
  {
   "cell_type": "code",
   "execution_count": 39,
   "metadata": {},
   "outputs": [
    {
     "data": {
      "text/plain": [
       "TIMESTAMP   2020-09-30\n",
       "Name: 60, dtype: datetime64[ns]"
      ]
     },
     "execution_count": 39,
     "metadata": {},
     "output_type": "execute_result"
    }
   ],
   "source": [
    "# And again, I want to find out the last day having the item_count in the given data, so I use .loc[60] to get the final day value\n",
    "finalday=datetimeindex.loc[60]\n",
    "finalday"
   ]
  },
  {
   "cell_type": "code",
   "execution_count": 40,
   "metadata": {},
   "outputs": [
    {
     "data": {
      "text/plain": [
       "TIMESTAMP   2020-10-01\n",
       "Name: 60, dtype: datetime64[ns]"
      ]
     },
     "execution_count": 40,
     "metadata": {},
     "output_type": "execute_result"
    }
   ],
   "source": [
    "# Then, I use the timedelta to find what is the next day after 2020-09-30\n",
    "import datetime\n",
    "from datetime import timedelta\n",
    "nextday= timedelta(days=+1)\n",
    "nextday= finalday + nextday\n",
    "nextday=pd.Series(nextday)\n",
    "nextday"
   ]
  },
  {
   "cell_type": "code",
   "execution_count": 54,
   "metadata": {},
   "outputs": [
    {
     "data": {
      "text/plain": [
       "0    828.069394\n",
       "dtype: float64"
      ]
     },
     "execution_count": 54,
     "metadata": {},
     "output_type": "execute_result"
    }
   ],
   "source": [
    "# I convert the predictionofnextday into Series with the pupose of combining the nextday value\n",
    "predictionofnextday= predictionofnextday.loc[0]\n",
    "predictionofnextday= pd.Series(predictionofnextday)\n",
    "predictionofnextday\n"
   ]
  },
  {
   "cell_type": "code",
   "execution_count": 72,
   "metadata": {},
   "outputs": [
    {
     "data": {
      "text/html": [
       "<div>\n",
       "<style scoped>\n",
       "    .dataframe tbody tr th:only-of-type {\n",
       "        vertical-align: middle;\n",
       "    }\n",
       "\n",
       "    .dataframe tbody tr th {\n",
       "        vertical-align: top;\n",
       "    }\n",
       "\n",
       "    .dataframe thead th {\n",
       "        text-align: right;\n",
       "    }\n",
       "</style>\n",
       "<table border=\"1\" class=\"dataframe\">\n",
       "  <thead>\n",
       "    <tr style=\"text-align: right;\">\n",
       "      <th></th>\n",
       "      <th>Next Day Prediction of Item_Count</th>\n",
       "    </tr>\n",
       "    <tr>\n",
       "      <th>60</th>\n",
       "      <th></th>\n",
       "    </tr>\n",
       "  </thead>\n",
       "  <tbody>\n",
       "    <tr>\n",
       "      <th>2020-10-01</th>\n",
       "      <td>828.069394</td>\n",
       "    </tr>\n",
       "  </tbody>\n",
       "</table>\n",
       "</div>"
      ],
      "text/plain": [
       "            Next Day Prediction of Item_Count\n",
       "60                                           \n",
       "2020-10-01                         828.069394"
      ]
     },
     "execution_count": 72,
     "metadata": {},
     "output_type": "execute_result"
    }
   ],
   "source": [
    "# I \n",
    "valueinnextday=pd.DataFrame({'Next Day Prediction of Item_Count':\n",
    "                            predictionofnextday.loc[0]}, index= nextday )\n",
    "valueinnextday"
   ]
  },
  {
   "cell_type": "code",
   "execution_count": 73,
   "metadata": {},
   "outputs": [
    {
     "data": {
      "text/html": [
       "<div>\n",
       "<style scoped>\n",
       "    .dataframe tbody tr th:only-of-type {\n",
       "        vertical-align: middle;\n",
       "    }\n",
       "\n",
       "    .dataframe tbody tr th {\n",
       "        vertical-align: top;\n",
       "    }\n",
       "\n",
       "    .dataframe thead th {\n",
       "        text-align: right;\n",
       "    }\n",
       "</style>\n",
       "<table border=\"1\" class=\"dataframe\">\n",
       "  <thead>\n",
       "    <tr style=\"text-align: right;\">\n",
       "      <th></th>\n",
       "      <th>ITEM_COUNT</th>\n",
       "      <th>Next Day Prediction of Item_Count</th>\n",
       "    </tr>\n",
       "  </thead>\n",
       "  <tbody>\n",
       "    <tr>\n",
       "      <th>2020-08-01</th>\n",
       "      <td>839.0</td>\n",
       "      <td>NaN</td>\n",
       "    </tr>\n",
       "    <tr>\n",
       "      <th>2020-08-02</th>\n",
       "      <td>995.0</td>\n",
       "      <td>NaN</td>\n",
       "    </tr>\n",
       "    <tr>\n",
       "      <th>2020-08-03</th>\n",
       "      <td>616.0</td>\n",
       "      <td>NaN</td>\n",
       "    </tr>\n",
       "    <tr>\n",
       "      <th>2020-08-04</th>\n",
       "      <td>565.0</td>\n",
       "      <td>NaN</td>\n",
       "    </tr>\n",
       "    <tr>\n",
       "      <th>2020-08-05</th>\n",
       "      <td>704.0</td>\n",
       "      <td>NaN</td>\n",
       "    </tr>\n",
       "    <tr>\n",
       "      <th>...</th>\n",
       "      <td>...</td>\n",
       "      <td>...</td>\n",
       "    </tr>\n",
       "    <tr>\n",
       "      <th>2020-09-27</th>\n",
       "      <td>1162.0</td>\n",
       "      <td>NaN</td>\n",
       "    </tr>\n",
       "    <tr>\n",
       "      <th>2020-09-28</th>\n",
       "      <td>764.0</td>\n",
       "      <td>NaN</td>\n",
       "    </tr>\n",
       "    <tr>\n",
       "      <th>2020-09-29</th>\n",
       "      <td>692.0</td>\n",
       "      <td>NaN</td>\n",
       "    </tr>\n",
       "    <tr>\n",
       "      <th>2020-09-30</th>\n",
       "      <td>879.0</td>\n",
       "      <td>NaN</td>\n",
       "    </tr>\n",
       "    <tr>\n",
       "      <th>2020-10-01</th>\n",
       "      <td>NaN</td>\n",
       "      <td>828.069394</td>\n",
       "    </tr>\n",
       "  </tbody>\n",
       "</table>\n",
       "<p>62 rows × 2 columns</p>\n",
       "</div>"
      ],
      "text/plain": [
       "            ITEM_COUNT  Next Day Prediction of Item_Count\n",
       "2020-08-01       839.0                                NaN\n",
       "2020-08-02       995.0                                NaN\n",
       "2020-08-03       616.0                                NaN\n",
       "2020-08-04       565.0                                NaN\n",
       "2020-08-05       704.0                                NaN\n",
       "...                ...                                ...\n",
       "2020-09-27      1162.0                                NaN\n",
       "2020-09-28       764.0                                NaN\n",
       "2020-09-29       692.0                                NaN\n",
       "2020-09-30       879.0                                NaN\n",
       "2020-10-01         NaN                         828.069394\n",
       "\n",
       "[62 rows x 2 columns]"
      ]
     },
     "execution_count": 73,
     "metadata": {},
     "output_type": "execute_result"
    }
   ],
   "source": [
    "## Finally i comebine to the orginal Dataframe\n",
    "final_prediction_next_day=numberoforderinaday.append(valueinnextday)\n",
    "final_prediction_next_day"
   ]
  },
  {
   "cell_type": "markdown",
   "metadata": {},
   "source": [
    "Similartly, now I visualize and predict the number of item in next week"
   ]
  },
  {
   "cell_type": "code",
   "execution_count": 90,
   "metadata": {},
   "outputs": [
    {
     "data": {
      "text/html": [
       "<div>\n",
       "<style scoped>\n",
       "    .dataframe tbody tr th:only-of-type {\n",
       "        vertical-align: middle;\n",
       "    }\n",
       "\n",
       "    .dataframe tbody tr th {\n",
       "        vertical-align: top;\n",
       "    }\n",
       "\n",
       "    .dataframe thead th {\n",
       "        text-align: right;\n",
       "    }\n",
       "</style>\n",
       "<table border=\"1\" class=\"dataframe\">\n",
       "  <thead>\n",
       "    <tr style=\"text-align: right;\">\n",
       "      <th></th>\n",
       "      <th>ITEM_COUNT</th>\n",
       "    </tr>\n",
       "    <tr>\n",
       "      <th>TIMESTAMP</th>\n",
       "      <th></th>\n",
       "    </tr>\n",
       "  </thead>\n",
       "  <tbody>\n",
       "    <tr>\n",
       "      <th>2020-08-02</th>\n",
       "      <td>1834</td>\n",
       "    </tr>\n",
       "    <tr>\n",
       "      <th>2020-08-09</th>\n",
       "      <td>5335</td>\n",
       "    </tr>\n",
       "    <tr>\n",
       "      <th>2020-08-16</th>\n",
       "      <td>5676</td>\n",
       "    </tr>\n",
       "    <tr>\n",
       "      <th>2020-08-23</th>\n",
       "      <td>5629</td>\n",
       "    </tr>\n",
       "    <tr>\n",
       "      <th>2020-08-30</th>\n",
       "      <td>5626</td>\n",
       "    </tr>\n",
       "    <tr>\n",
       "      <th>2020-09-06</th>\n",
       "      <td>5596</td>\n",
       "    </tr>\n",
       "    <tr>\n",
       "      <th>2020-09-13</th>\n",
       "      <td>6018</td>\n",
       "    </tr>\n",
       "    <tr>\n",
       "      <th>2020-09-20</th>\n",
       "      <td>6056</td>\n",
       "    </tr>\n",
       "    <tr>\n",
       "      <th>2020-09-27</th>\n",
       "      <td>6181</td>\n",
       "    </tr>\n",
       "    <tr>\n",
       "      <th>2020-10-04</th>\n",
       "      <td>2335</td>\n",
       "    </tr>\n",
       "  </tbody>\n",
       "</table>\n",
       "</div>"
      ],
      "text/plain": [
       "            ITEM_COUNT\n",
       "TIMESTAMP             \n",
       "2020-08-02        1834\n",
       "2020-08-09        5335\n",
       "2020-08-16        5676\n",
       "2020-08-23        5629\n",
       "2020-08-30        5626\n",
       "2020-09-06        5596\n",
       "2020-09-13        6018\n",
       "2020-09-20        6056\n",
       "2020-09-27        6181\n",
       "2020-10-04        2335"
      ]
     },
     "execution_count": 90,
     "metadata": {},
     "output_type": "execute_result"
    }
   ],
   "source": [
    "#Reshaping the data in to weeks\n",
    "numberoforderinaweek=df.resample('W').sum().iloc[:,:2].drop('ACTUAL_DELIVERY_MINUTES - ESTIMATED_DELIVERY_MINUTES',axis=1)\n",
    "numberoforderinaweek\n"
   ]
  },
  {
   "cell_type": "code",
   "execution_count": 114,
   "metadata": {},
   "outputs": [
    {
     "data": {
      "text/html": [
       "<table class=\"simpletable\">\n",
       "<caption>SARIMAX Results</caption>\n",
       "<tr>\n",
       "  <th>Dep. Variable:</th>             <td>ITEM_COUNT</td>            <th>  No. Observations:  </th>   <td>7</td>  \n",
       "</tr>\n",
       "<tr>\n",
       "  <th>Model:</th>           <td>SARIMAX(0, 0, 1)x(2, 1, [], 12)</td> <th>  Log Likelihood     </th> <td>0.000</td>\n",
       "</tr>\n",
       "<tr>\n",
       "  <th>Date:</th>                   <td>Sun, 31 Jan 2021</td>         <th>  AIC                </th> <td>8.000</td>\n",
       "</tr>\n",
       "<tr>\n",
       "  <th>Time:</th>                       <td>16:23:38</td>             <th>  BIC                </th> <td>  nan</td>\n",
       "</tr>\n",
       "<tr>\n",
       "  <th>Sample:</th>                    <td>08-23-2020</td>            <th>  HQIC               </th> <td>  nan</td>\n",
       "</tr>\n",
       "<tr>\n",
       "  <th></th>                          <td>- 10-04-2020</td>           <th>                     </th>   <td> </td>  \n",
       "</tr>\n",
       "<tr>\n",
       "  <th>Covariance Type:</th>               <td>opg</td>               <th>                     </th>   <td> </td>  \n",
       "</tr>\n",
       "</table>\n",
       "<table class=\"simpletable\">\n",
       "<tr>\n",
       "      <td></td>        <th>coef</th>     <th>std err</th>      <th>z</th>      <th>P>|z|</th>  <th>[0.025</th>    <th>0.975]</th>  \n",
       "</tr>\n",
       "<tr>\n",
       "  <th>ma.L1</th>    <td>         0</td> <td>       -0</td> <td>      nan</td> <td>   nan</td> <td>        0</td> <td>        0</td>\n",
       "</tr>\n",
       "<tr>\n",
       "  <th>ar.S.L12</th> <td>        -0</td> <td>       -0</td> <td>      nan</td> <td>   nan</td> <td>        0</td> <td>       -0</td>\n",
       "</tr>\n",
       "<tr>\n",
       "  <th>ar.S.L24</th> <td>         0</td> <td>       -0</td> <td>      nan</td> <td>   nan</td> <td>        0</td> <td>        0</td>\n",
       "</tr>\n",
       "<tr>\n",
       "  <th>sigma2</th>   <td>    1.0000</td> <td>       -0</td> <td>     -inf</td> <td> 0.000</td> <td>    1.000</td> <td>    1.000</td>\n",
       "</tr>\n",
       "</table>\n",
       "<table class=\"simpletable\">\n",
       "<tr>\n",
       "  <th>Ljung-Box (Q):</th>          <td>nan</td> <th>  Jarque-Bera (JB):  </th> <td>nan</td>\n",
       "</tr>\n",
       "<tr>\n",
       "  <th>Prob(Q):</th>                <td>nan</td> <th>  Prob(JB):          </th> <td>nan</td>\n",
       "</tr>\n",
       "<tr>\n",
       "  <th>Heteroskedasticity (H):</th> <td>nan</td> <th>  Skew:              </th> <td>nan</td>\n",
       "</tr>\n",
       "<tr>\n",
       "  <th>Prob(H) (two-sided):</th>    <td>nan</td> <th>  Kurtosis:          </th> <td>nan</td>\n",
       "</tr>\n",
       "</table><br/><br/>Warnings:<br/>[1] Covariance matrix calculated using the outer product of gradients (complex-step).<br/>[2] Covariance matrix is singular or near-singular, with condition number    inf. Standard errors may be unstable."
      ],
      "text/plain": [
       "<class 'statsmodels.iolib.summary.Summary'>\n",
       "\"\"\"\n",
       "                                      SARIMAX Results                                      \n",
       "===========================================================================================\n",
       "Dep. Variable:                          ITEM_COUNT   No. Observations:                    7\n",
       "Model:             SARIMAX(0, 0, 1)x(2, 1, [], 12)   Log Likelihood                   0.000\n",
       "Date:                             Sun, 31 Jan 2021   AIC                              8.000\n",
       "Time:                                     16:23:38   BIC                                nan\n",
       "Sample:                                 08-23-2020   HQIC                               nan\n",
       "                                      - 10-04-2020                                         \n",
       "Covariance Type:                               opg                                         \n",
       "==============================================================================\n",
       "                 coef    std err          z      P>|z|      [0.025      0.975]\n",
       "------------------------------------------------------------------------------\n",
       "ma.L1               0         -0        nan        nan           0           0\n",
       "ar.S.L12           -0         -0        nan        nan           0          -0\n",
       "ar.S.L24            0         -0        nan        nan           0           0\n",
       "sigma2         1.0000         -0       -inf      0.000       1.000       1.000\n",
       "===================================================================================\n",
       "Ljung-Box (Q):                         nan   Jarque-Bera (JB):                  nan\n",
       "Prob(Q):                               nan   Prob(JB):                          nan\n",
       "Heteroskedasticity (H):                nan   Skew:                              nan\n",
       "Prob(H) (two-sided):                   nan   Kurtosis:                          nan\n",
       "===================================================================================\n",
       "\n",
       "Warnings:\n",
       "[1] Covariance matrix calculated using the outer product of gradients (complex-step).\n",
       "[2] Covariance matrix is singular or near-singular, with condition number    inf. Standard errors may be unstable.\n",
       "\"\"\""
      ]
     },
     "execution_count": 114,
     "metadata": {},
     "output_type": "execute_result"
    }
   ],
   "source": [
    "# As similar, we split the data set into:\n",
    "firstperiodofweeks=numberoforderinaweek.iloc[:len(numberoforderinaweek)-7]\n",
    "lastperiodofweeks=numberoforderinaweek.iloc[len(numberoforderinaweek)-7:]\n",
    "firstperiodofweeks\n",
    "lastperiodofweeks\n",
    "model= SARIMAX(lastperiodofweeks['ITEM_COUNT'], order=(0,0,1), seasonal_order=(2,1,0,12))\n",
    "resultinaweek=model.fit()\n",
    "resultinaweek.summary()"
   ]
  },
  {
   "cell_type": "code",
   "execution_count": 115,
   "metadata": {
    "scrolled": true
   },
   "outputs": [
    {
     "data": {
      "text/plain": [
       "<matplotlib.axes._subplots.AxesSubplot at 0x11f2c8bb0>"
      ]
     },
     "execution_count": 115,
     "metadata": {},
     "output_type": "execute_result"
    },
    {
     "data": {
      "image/png": "[encoded data removed]",
      "text/plain": [
       "<Figure size 432x288 with 1 Axes>"
      ]
     },
     "metadata": {
      "needs_background": "light"
     },
     "output_type": "display_data"
    }
   ],
   "source": [
    "#Plotting the prediction trend:\n",
    "setoffirstweeks= len(firstperiodofweeks) \n",
    "setoflastweeks=  len(firstperiodofweeks) + len(lastperiodofweeks)-1\n",
    "predictioninaweek=result.predict(setoffirstweeks, setoflastweeks +49 , typ='levels').rename('Predictions') \n",
    "predictioninaweek.plot(legend= True)\n",
    "lastperiodofweeks['ITEM_COUNT'].plot(legend= True)\n"
   ]
  },
  {
   "cell_type": "code",
   "execution_count": 117,
   "metadata": {},
   "outputs": [
    {
     "data": {
      "text/plain": [
       "<matplotlib.axes._subplots.AxesSubplot at 0x11dbf3940>"
      ]
     },
     "execution_count": 117,
     "metadata": {},
     "output_type": "execute_result"
    },
    {
     "data": {
      "image/png": "[encoded data removed]",
      "text/plain": [
       "<Figure size 864x360 with 1 Axes>"
      ]
     },
     "metadata": {
      "needs_background": "light"
     },
     "output_type": "display_data"
    }
   ],
   "source": [
    "# Fit into Sarimax Model and make the forecast for next week\n",
    "model=model= SARIMAX(numberoforderinaweek['ITEM_COUNT'], order=(0,0,1), seasonal_order=(2,1,0,12))\n",
    "resultinaweek= model.fit()\n",
    "forecastinaweek= resultinaweek.predict(start=(len(numberoforderinaweek)-1), \n",
    "                        end=(len(numberoforderinaweek)), typ='levels').rename('Forecast')\n",
    "numberoforderinaweek['ITEM_COUNT'].plot(figsize=(12,5), legend= True)\n",
    "forecastinaweek.plot(legend=True)"
   ]
  },
  {
   "cell_type": "markdown",
   "metadata": {},
   "source": [
    "Then, I will find the specific value of order number for nextweek"
   ]
  },
  {
   "cell_type": "code",
   "execution_count": 109,
   "metadata": {},
   "outputs": [
    {
     "data": {
      "text/plain": [
       "array([1.5963264e+09, 1.5969312e+09, 1.5975360e+09, 1.5981408e+09,\n",
       "       1.5987456e+09, 1.5993504e+09, 1.5999552e+09, 1.6005600e+09,\n",
       "       1.6011648e+09, 1.6017696e+09])"
      ]
     },
     "execution_count": 109,
     "metadata": {},
     "output_type": "execute_result"
    }
   ],
   "source": [
    "# Similarly, I converted the timeline in a week into an array of numerical values\n",
    "weeklytimeline=pd.DataFrame(numberoforderinaweek.index)\n",
    "weekinnumerical=pd.to_datetime(weeklytimeline['TIMESTAMP']).astype(int)/ 10**9\n",
    "weekinnumerical= np.array(weekinnumerical)\n",
    "weekinnumerical"
   ]
  },
  {
   "cell_type": "code",
   "execution_count": 110,
   "metadata": {},
   "outputs": [
    {
     "name": "stdout",
     "output_type": "stream",
     "text": [
      "coef is: [0.00010598]\n",
      "intercept_ is: -164653.3189823875\n"
     ]
    }
   ],
   "source": [
    "from sklearn.linear_model import LinearRegression\n",
    "from sklearn.model_selection import train_test_split\n",
    "X_train, X_test, y_train, y_test= train_test_split(weekinnumerical,orderofweek, \n",
    "                                                   test_size=0.2, random_state=0)\n",
    "weeklyregressor= LinearRegression()\n",
    "weeklyregressor.fit(X_train.reshape(-1,1), y_train)\n",
    "print('coef is:', weeklyregressor.coef_)\n",
    "print('intercept_ is:', weeklyregressor.intercept_)"
   ]
  },
  {
   "cell_type": "markdown",
   "metadata": {},
   "source": [
    "Coef_ is from -1 to 1 so the value might be correctly predicted"
   ]
  },
  {
   "cell_type": "code",
   "execution_count": 132,
   "metadata": {},
   "outputs": [
    {
     "data": {
      "text/plain": [
       "array([4651.39726027, 5035.97260274])"
      ]
     },
     "execution_count": 132,
     "metadata": {},
     "output_type": "execute_result"
    }
   ],
   "source": [
    "# I will find the values of item_count in next weeks\n",
    "predictionofnextweek= weeklyregressor.predict(X_test.reshape(-1,1))\n",
    "predictionofnextweek"
   ]
  },
  {
   "cell_type": "markdown",
   "metadata": {},
   "source": [
    "Next, I will change it into Series and combine it to the orginal dataframe of weeks"
   ]
  },
  {
   "cell_type": "code",
   "execution_count": 133,
   "metadata": {},
   "outputs": [
    {
     "data": {
      "text/plain": [
       "4651.397260273981"
      ]
     },
     "execution_count": 133,
     "metadata": {},
     "output_type": "execute_result"
    }
   ],
   "source": [
    "# I change the values of item_count in next weeks into dataframe\n",
    "predictionofnextweek=pd.Series(predictionofnextweek)\n",
    "predictionofnextweek=predictionofnextweek.loc[0]\n",
    "predictionofnextweek"
   ]
  },
  {
   "cell_type": "code",
   "execution_count": 134,
   "metadata": {},
   "outputs": [
    {
     "data": {
      "text/plain": [
       "TIMESTAMP   2020-10-04\n",
       "Name: 9, dtype: datetime64[ns]"
      ]
     },
     "execution_count": 134,
     "metadata": {},
     "output_type": "execute_result"
    }
   ],
   "source": [
    "finalweek=weeklytimeline.loc[9]\n",
    "finalweek"
   ]
  },
  {
   "cell_type": "code",
   "execution_count": 135,
   "metadata": {},
   "outputs": [
    {
     "data": {
      "text/plain": [
       "TIMESTAMP   2020-10-11\n",
       "Name: 9, dtype: datetime64[ns]"
      ]
     },
     "execution_count": 135,
     "metadata": {},
     "output_type": "execute_result"
    }
   ],
   "source": [
    "import datetime\n",
    "nextweek= timedelta(days=+7)\n",
    "nextweek= finalweek + nextweek\n",
    "#nextweek=pd.DateFrame(nextweek)\n",
    "nextweek=pd.Series(nextweek)\n",
    "nextweek"
   ]
  },
  {
   "cell_type": "code",
   "execution_count": 87,
   "metadata": {},
   "outputs": [
    {
     "data": {
      "text/html": [
       "<div>\n",
       "<style scoped>\n",
       "    .dataframe tbody tr th:only-of-type {\n",
       "        vertical-align: middle;\n",
       "    }\n",
       "\n",
       "    .dataframe tbody tr th {\n",
       "        vertical-align: top;\n",
       "    }\n",
       "\n",
       "    .dataframe thead th {\n",
       "        text-align: right;\n",
       "    }\n",
       "</style>\n",
       "<table border=\"1\" class=\"dataframe\">\n",
       "  <thead>\n",
       "    <tr style=\"text-align: right;\">\n",
       "      <th></th>\n",
       "      <th>Next Week Prediction of Item</th>\n",
       "    </tr>\n",
       "    <tr>\n",
       "      <th>9</th>\n",
       "      <th></th>\n",
       "    </tr>\n",
       "  </thead>\n",
       "  <tbody>\n",
       "    <tr>\n",
       "      <th>2020-10-11</th>\n",
       "      <td>4651.39726</td>\n",
       "    </tr>\n",
       "  </tbody>\n",
       "</table>\n",
       "</div>"
      ],
      "text/plain": [
       "            Next Week Prediction of Item\n",
       "9                                       \n",
       "2020-10-11                    4651.39726"
      ]
     },
     "execution_count": 87,
     "metadata": {},
     "output_type": "execute_result"
    }
   ],
   "source": [
    "final_prediction_next_week=pd.DataFrame({'Next Week Prediction of Item'\n",
    "                              :predictionofnextweek,\n",
    "                    }, index=nextweek)\n",
    "final_prediction_next_week"
   ]
  },
  {
   "cell_type": "markdown",
   "metadata": {},
   "source": [
    "And finally, we have a data frame like this"
   ]
  },
  {
   "cell_type": "code",
   "execution_count": 88,
   "metadata": {
    "scrolled": true
   },
   "outputs": [
    {
     "data": {
      "text/html": [
       "<div>\n",
       "<style scoped>\n",
       "    .dataframe tbody tr th:only-of-type {\n",
       "        vertical-align: middle;\n",
       "    }\n",
       "\n",
       "    .dataframe tbody tr th {\n",
       "        vertical-align: top;\n",
       "    }\n",
       "\n",
       "    .dataframe thead th {\n",
       "        text-align: right;\n",
       "    }\n",
       "</style>\n",
       "<table border=\"1\" class=\"dataframe\">\n",
       "  <thead>\n",
       "    <tr style=\"text-align: right;\">\n",
       "      <th></th>\n",
       "      <th>ITEM_COUNT</th>\n",
       "      <th>Next Week Prediction of Item</th>\n",
       "    </tr>\n",
       "  </thead>\n",
       "  <tbody>\n",
       "    <tr>\n",
       "      <th>2020-08-02</th>\n",
       "      <td>1834.0</td>\n",
       "      <td>NaN</td>\n",
       "    </tr>\n",
       "    <tr>\n",
       "      <th>2020-08-09</th>\n",
       "      <td>5335.0</td>\n",
       "      <td>NaN</td>\n",
       "    </tr>\n",
       "    <tr>\n",
       "      <th>2020-08-16</th>\n",
       "      <td>5676.0</td>\n",
       "      <td>NaN</td>\n",
       "    </tr>\n",
       "    <tr>\n",
       "      <th>2020-08-23</th>\n",
       "      <td>5629.0</td>\n",
       "      <td>NaN</td>\n",
       "    </tr>\n",
       "    <tr>\n",
       "      <th>2020-08-30</th>\n",
       "      <td>5626.0</td>\n",
       "      <td>NaN</td>\n",
       "    </tr>\n",
       "    <tr>\n",
       "      <th>2020-09-06</th>\n",
       "      <td>5596.0</td>\n",
       "      <td>NaN</td>\n",
       "    </tr>\n",
       "    <tr>\n",
       "      <th>2020-09-13</th>\n",
       "      <td>6018.0</td>\n",
       "      <td>NaN</td>\n",
       "    </tr>\n",
       "    <tr>\n",
       "      <th>2020-09-20</th>\n",
       "      <td>6056.0</td>\n",
       "      <td>NaN</td>\n",
       "    </tr>\n",
       "    <tr>\n",
       "      <th>2020-09-27</th>\n",
       "      <td>6181.0</td>\n",
       "      <td>NaN</td>\n",
       "    </tr>\n",
       "    <tr>\n",
       "      <th>2020-10-04</th>\n",
       "      <td>2335.0</td>\n",
       "      <td>NaN</td>\n",
       "    </tr>\n",
       "    <tr>\n",
       "      <th>2020-10-11</th>\n",
       "      <td>NaN</td>\n",
       "      <td>4651.39726</td>\n",
       "    </tr>\n",
       "  </tbody>\n",
       "</table>\n",
       "</div>"
      ],
      "text/plain": [
       "            ITEM_COUNT  Next Week Prediction of Item\n",
       "2020-08-02      1834.0                           NaN\n",
       "2020-08-09      5335.0                           NaN\n",
       "2020-08-16      5676.0                           NaN\n",
       "2020-08-23      5629.0                           NaN\n",
       "2020-08-30      5626.0                           NaN\n",
       "2020-09-06      5596.0                           NaN\n",
       "2020-09-13      6018.0                           NaN\n",
       "2020-09-20      6056.0                           NaN\n",
       "2020-09-27      6181.0                           NaN\n",
       "2020-10-04      2335.0                           NaN\n",
       "2020-10-11         NaN                    4651.39726"
      ]
     },
     "execution_count": 88,
     "metadata": {},
     "output_type": "execute_result"
    }
   ],
   "source": [
    "numberoforderinaweek.append(final_prediction_next_week)"
   ]
  },
  {
   "cell_type": "code",
   "execution_count": null,
   "metadata": {},
   "outputs": [],
   "source": []
  }
 ],
 "metadata": {
  "kernelspec": {
   "display_name": "Python 3",
   "language": "python",
   "name": "python3"
  },
  "language_info": {
   "codemirror_mode": {
    "name": "ipython",
    "version": 3
   },
   "file_extension": ".py",
   "mimetype": "text/x-python",
   "name": "python",
   "nbconvert_exporter": "python",
   "pygments_lexer": "ipython3",
   "version": "3.8.3"
  }
 },
 "nbformat": 4,
 "nbformat_minor": 4
}
