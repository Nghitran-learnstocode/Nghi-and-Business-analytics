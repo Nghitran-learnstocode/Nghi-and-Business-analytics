{
 "cells": [
  {
   "cell_type": "markdown",
   "metadata": {},
   "source": [
    "Name: Nghi Tran (Tran Thi Truc Nghi)\n"
   ]
  },
  {
   "cell_type": "markdown",
   "metadata": {},
   "source": [
    "### Question 1. <code>leap_year()</code>\n",
    "\n",
    "Most years have 365 days. However, the time required for the Earth to orbit the Sun is actually slightly more than that. As a result, an extra day, February 29, is included in some years to correct for this difference. Such years are referred to as leap years.\n",
    "\n",
    "The rules for determining whether or not a year is a leap year is as follows:\n",
    " - Any year that is divisible by 400 is a leap year.\n",
    " - Of the remaining years, any year that is divisible by 100 is not a leap year.\n",
    " - Of the remaining years, any year that is divisible by 4 is a leap year.\n",
    " - All other years are not leap years.\n",
    " \n",
    "Please write a function, <code>leap_year()</code>, which has one argument representing the year. Your function should return <code>True</code> if the input year is a leap year, and <code>False</code> otherwise."
   ]
  },
  {
   "cell_type": "code",
   "execution_count": 13,
   "metadata": {},
   "outputs": [],
   "source": [
    "\n",
    "def leap_year(year):\n",
    "        if year%400==0: ##because any year that is divisible by 400 is a leapyear\n",
    "                return ( year , \"this year is a leap year and the value is\", True)\n",
    "        elif year % 4 ==0 and year %100!=0: ## because of any remaining years is divisible by 4 and undivisble by 100 is a leap year\n",
    "                return (year , \"this year is a leap year and the value is\", True)\n",
    "        else:\n",
    "                return ( year , \"this year is not leap and the value is\", False) #because of these remaining years that can not satisfied two above criterias will not be seen as a leap year\n",
    "            "
   ]
  },
  {
   "cell_type": "code",
   "execution_count": 14,
   "metadata": {},
   "outputs": [
    {
     "name": "stdout",
     "output_type": "stream",
     "text": [
      "(1700, 'this year is not leap and the value is', False)\n",
      "(1800, 'this year is not leap and the value is', False)\n",
      "(1900, 'this year is not leap and the value is', False)\n",
      "(2100, 'this year is not leap and the value is', False)\n",
      "(2200, 'this year is not leap and the value is', False)\n",
      "(2300, 'this year is not leap and the value is', False)\n",
      "(2500, 'this year is not leap and the value is', False)\n",
      "(2600, 'this year is not leap and the value is', False)\n",
      "\n",
      "\n",
      "(1600, 'this year is a leap year and the value is', True)\n",
      "(2000, 'this year is a leap year and the value is', True)\n",
      "(2400, 'this year is a leap year and the value is', True)\n",
      "(1992, 'this year is a leap year and the value is', True)\n",
      "(2008, 'this year is a leap year and the value is', True)\n"
     ]
    }
   ],
   "source": [
    "## Test your function with the following lists:\n",
    "\n",
    "not_leap_year_list = [1700, 1800, 1900, 2100, 2200, 2300, 2500, 2600]\n",
    "\n",
    "for year in not_leap_year_list:\n",
    "    print(leap_year(year))\n",
    "    \n",
    "print(\"\\n\")    \n",
    "\n",
    "leap_year_list = [1600, 2000, 2400, 1992, 2008]\n",
    "    \n",
    "for year in leap_year_list:\n",
    "    print(leap_year(year))"
   ]
  },
  {
   "cell_type": "markdown",
   "metadata": {},
   "source": [
    "### Question 2. <code>valid_license_plate()</code>\n",
    "\n",
    "In a particular jurisdiction, older license plates consist of three uppercase letters followed by three numbers. When all of the license plates following that pattern had been used, the format was changed to four numbers followed by three uppercase letters.\n",
    "\n",
    "Please write a function, <code>valid_license_plate()</code>, which takes a string as the argument. Then your function should display a message indicating whether the characters are valid for an older style license plate or a newer style license plate. Your function should display an appropriate message if the string entered is not valid for either style of license plate.\n",
    "\n",
    "NOTE: When the conditional part of an <code>if</code> statement is too long, you can use backslash <code>\\\\</code> as the line break. Or, you can group the conditional part within parentheses <code>()</code>, and break it over multiple lines."
   ]
  },
  {
   "cell_type": "code",
   "execution_count": 6,
   "metadata": {},
   "outputs": [],
   "source": [
    "\n",
    "def valid_license_plate(plate):\n",
    "    status= True\n",
    "    if len(plate)==6 and plate[0]>='A' and plate[0]<='Z'and\\\n",
    "    plate[1] >= 'A' and plate [1]<='Z'and\\\n",
    "    plate[2] >='A' and plate[2]<='Z' and\\\n",
    "    plate[3] >='0' and plate[3]<='9' and \\\n",
    "    plate[4] >='0' and plate[4]<='9' and\\\n",
    "    plate[5]>='0' and plate[5] <='9':\n",
    "        status= True\n",
    "        print(plate, \"is a old style\")\n",
    "    elif len(plate)==7 and plate[0]>='0' and plate[0]<='9'and\\\n",
    "    plate[1] >='0' and plate[1] <='9' and \\\n",
    "    plate[2] >='0' and plate[2] <='9' and \\\n",
    "    plate[3] >='0' and plate[3] <='9' and\\\n",
    "    plate[4] >='A' and plate[4] <='Z' and\\\n",
    "    plate[5] >='A' and plate[5] <='Z' and \\\n",
    "    plate[6] >='A' and plate[6] <='Z':\n",
    "        status= True\n",
    "        print(plate, \"is a new style\")\n",
    "    else:\n",
    "        status= False\n",
    "        print(plate, \" is invalid\")  \n",
    "        \n"
   ]
  },
  {
   "cell_type": "code",
   "execution_count": 7,
   "metadata": {},
   "outputs": [
    {
     "name": "stdout",
     "output_type": "stream",
     "text": [
      "AB123  is invalid\n",
      "aBC123  is invalid\n",
      "AB1234  is invalid\n",
      "ABCD12  is invalid\n",
      "AB%123  is invalid\n",
      "ABC12/  is invalid\n",
      "ABC1234  is invalid\n",
      "ABCD123  is invalid\n",
      "123ABCD  is invalid\n",
      "123ABC  is invalid\n",
      "1234AB  is invalid\n",
      "123€ABC  is invalid\n",
      "1234AB&  is invalid\n",
      "\n",
      "\n",
      "ABC123 is a old style\n",
      "GHN492 is a old style\n",
      "4639IUG is a new style\n",
      "0814OAT is a new style\n"
     ]
    }
   ],
   "source": [
    "        \n",
    "## Test your function with the following lists:\n",
    "\n",
    "invalid_plate = ['AB123', 'aBC123', 'AB1234', 'ABCD12', 'AB%123', 'ABC12/',\n",
    "                 'ABC1234', 'ABCD123', '123ABCD', '123ABC', '1234AB', '123€ABC', '1234AB&']\n",
    "\n",
    "for plate in invalid_plate:\n",
    "    valid_license_plate(plate)\n",
    "    \n",
    "print(\"\\n\")\n",
    "\n",
    "valid_plate = ['ABC123', 'GHN492', '4639IUG', '0814OAT']\n",
    "\n",
    "for plate in valid_plate:\n",
    "    valid_license_plate(plate)\n"
   ]
  },
  {
   "cell_type": "markdown",
   "metadata": {},
   "source": [
    "### Question 3. <code>morse_to_text()</code>\n",
    "\n",
    "Please write a function <code>morse_to_text()</code>, which can interpret the input Morse code to text, that is, the function should return the text as a string.\n",
    "\n",
    "Hint: The <code>.split()</code> method could be useful."
   ]
  },
  {
   "cell_type": "code",
   "execution_count": 16,
   "metadata": {},
   "outputs": [],
   "source": [
    "## The following dictionary maps each Morse character to one Latin character.\n",
    "\n",
    "## Note: The Morse character '-.--.-' represents '(', ')', '[', ']', '{' or '}'.\n",
    "\n",
    "morse_to_latin_dict = {'.-': 'A', '-...': 'B', '-.-.': 'C', '-..': 'D', \\\n",
    "                       '.': 'E', '..-.': 'F', '--.': 'G', '....': 'H', \\\n",
    "                       '..': 'I', '.---': 'J', '-.-': 'K', '.-..': 'L', \\\n",
    "                       '--': 'M', '-.': 'N', '---': 'O', '.--.': 'P', \\\n",
    "                       '--.-': 'Q', '.-.': 'R', '...': 'S', '-': 'T', \\\n",
    "                       '..-': 'U', '...-': 'V', '.--': 'W', '-..-': 'X', \\\n",
    "                       '-.--': 'Y', '--..': 'Z', '.----': '1', '..---': '2', \\\n",
    "                       '...--': '3', '....-': '4', '.....': '5', '-....': '6', \\\n",
    "                       '--...': '7', '---..': '8', '----.': '9', '-----': '0', \\\n",
    "                       '--..--': ',', '.-.-.-': '.', '..--..': '?', '-.-.-': ';', \\\n",
    "                       '---...': ':', '-..-.': '/', '-....-': '-', '.----.': \"'\", \\\n",
    "                       '-.--.-': '(', '..--.-': '_', '-.-.--': '!'}\n",
    "\n",
    "## For example, the corresponding text to the following Morse code:\n",
    "##\n",
    "##    '.--. .-. --- --. .-. .- -- -- .. -. --.    ..-. --- .-.    .- -. .- .-.. -.-- - .. -.-. ...'\n",
    "##\n",
    "## is 'PROGRAMMING FOR ANALYTICS'.\n",
    "\n",
    "## Another example, the corresponding text to the following Morse code:\n",
    "##\n",
    "##    '.... ..    - .... . .-. . -.-.--'\n",
    "##\n",
    "## is 'HI THERE!'\n"
   ]
  },
  {
   "cell_type": "code",
   "execution_count": 17,
   "metadata": {},
   "outputs": [],
   "source": [
    "## Your function starts from here:\n",
    "def morse_to_text(text):\n",
    "    splitted_morse_text=text.split()\n",
    "    final_text=\" \"\n",
    "    for index in range(0, len(splitted_morse_text)):\n",
    "           final_text += morse_to_latin_dict[splitted_morse_text[index]]\n",
    "    return final_text\n"
   ]
  },
  {
   "cell_type": "code",
   "execution_count": 18,
   "metadata": {},
   "outputs": [
    {
     "name": "stdout",
     "output_type": "stream",
     "text": [
      " PROGRAMMINGFORANALYTICS\n",
      " HITHERE!\n"
     ]
    }
   ],
   "source": [
    "## Test your function:\n",
    "\n",
    "print(morse_to_text('.--. .-. --- --. .-. .- -- -- .. -. --.    ..-. --- .-.    .- -. .- .-.. -.-- - .. -.-. ...'))\n",
    "\n",
    "print(morse_to_text('.... ..    - .... . .-. . -.-.--'))"
   ]
  },
  {
   "cell_type": "markdown",
   "metadata": {},
   "source": [
    "### Question 4. <code>moving_average()</code>\n",
    "\n",
    "Moving average is a widely used method in forecasting and time series analysis. To predict a future value, it takes the average of the previous $k$ observations. Please create a function <code>moving_average()</code> that takes a list of values, <code>L</code>, and an integer indicating the value of $k$. You function should perform the corresponding moving average forecasting, **print** all the forecasted values, and **return** the total squared error of the forecast.\n",
    "\n",
    "You can use the following steps in your function, and let's use $k = 2$ as an example:\n",
    "* First, the function generates a list of forecasted values, <code>L_f</code>, as follows: \n",
    "  * The first two forecasted values (as $k = 2$ in this example) in <code>L_f</code> are the same as the first two values in the original list <code>L</code>, *i.e.*, <code>L_f[0] = L[0]</code> and <code>L_f[1] = L[1]</code>.\n",
    "  * The following forecasted values in <code>L_f</code> will be the average of the previous two values (as $k = 2$ in this example) from the original list <code>L</code>, *i.e.*, <code>L_f[t] = (L[t-1] + L[t-2])/2</code>.\n",
    "  * For example, if the original list is <code>L = [6,8,4,9,3,7]</code>, the first two values in <code>L_f</code> will be 6 and 8 as in the original list <code>L</code>, then <code>L_f[2] = (6 + 8)/2</code>, <code>L_f[3] = (8 + 4)/2</code> etc.\n",
    "* Calculate the forecast error <code>e_i</code> for each index <code>i</code> as <code>e_i = L[i] - L_f[i]</code>.\n",
    "* Return the total squared error as the sum of all the squared forecast errors.\n",
    "* For example, for <code>L = [6,8,4,9,3,7]</code> when $k = 2$:\n",
    "  * The list of forecasted values is <code>L_f = [6, 8, 7.0, 6.0, 6.5, 6.0]</code> \n",
    "  * The total squared error is $31.25$"
   ]
  },
  {
   "cell_type": "code",
   "execution_count": 3,
   "metadata": {},
   "outputs": [],
   "source": [
    "## Your function starts from here:\n",
    "def moving_average(L, k):\n",
    "    L_f=[]\n",
    "    e_i=[]\n",
    "    tse=0 ## we call tse as total squared error\n",
    "    for i in range(len(L)):\n",
    "        if i < k:\n",
    "            L_f.append(L[i]) # if k is from 0 to 2, the first two value in L_f and L will be equal\n",
    "        else:\n",
    "            #L_f.append((L[i-1]+L[i-2])/2) ## this is just in range(0,2)\n",
    "            new_value=0 # we call new_value for the forecasted value when k is bigger than 2\n",
    "            for j in range(0,k): ## because we should check any k value that is bigger than 2\n",
    "                new_value = new_value+L[i-1-j]\n",
    "            n= (new_value / k)\n",
    "            L_f.append(n)\n",
    "\n",
    "    for i in range(len(L)):\n",
    "        e_i.append(L[i]-L_f[i])\n",
    "\n",
    "    for i in range(len(e_i)):\n",
    "        tse=tse+(e_i[i])**2\n",
    "    \n",
    "\n",
    "    print(L_f)  \n",
    "    print(e_i)\n",
    "    print(tse)"
   ]
  },
  {
   "cell_type": "code",
   "execution_count": 4,
   "metadata": {},
   "outputs": [
    {
     "name": "stdout",
     "output_type": "stream",
     "text": [
      "[6, 8, 7.0, 6.0, 6.5, 6.0]\n",
      "[0, 0, -3.0, 3.0, -3.5, 1.0]\n",
      "31.25\n",
      "None\n"
     ]
    }
   ],
   "source": [
    "## Test your function:\n",
    "\n",
    "L = [6,8,4,9,3,7]\n",
    "\n",
    "print(moving_average(L, 2))"
   ]
  },
  {
   "cell_type": "code",
   "execution_count": 3,
   "metadata": {},
   "outputs": [
    {
     "name": "stdout",
     "output_type": "stream",
     "text": [
      "[88, 44, 66.0, 52.0, 58.0, 63.0, 80.5, 72.5, 57.0, 54.0, 41.5, 42.0, 46.5, 52.5, 64.5, 75.0, 76.5]\n",
      "[0, 0, -6.0, 4.0, 12.0, 28.0, -26.5, -12.5, -9.0, -19.0, 7.5, 2.0, 14.5, 15.5, 17.5, -4.0, -26.5]\n",
      "3815.75\n",
      "None \n",
      "\n",
      "[88, 44, 60, 64.0, 53.333333333333336, 62.0, 72.33333333333333, 71.66666666666667, 68.33333333333333, 54.0, 47.666666666666664, 44.0, 42.666666666666664, 51.333333333333336, 57.666666666666664, 70.33333333333333, 73.66666666666667]\n",
      "[0, 0, 0, -8.0, 16.666666666666664, 29.0, -18.33333333333333, -11.666666666666671, -20.33333333333333, -19.0, 1.3333333333333357, 0.0, 18.333333333333336, 16.666666666666664, 24.333333333333336, 0.6666666666666714, -23.66666666666667]\n",
      "4197.777777777778\n",
      "None \n",
      "\n",
      "[88, 44, 60, 56, 62.0, 57.5, 69.25, 67.75, 68.75, 63.25, 49.25, 48.0, 44.0, 47.25, 55.5, 63.75, 70.5]\n",
      "[0, 0, 0, 0, 8.0, 33.5, -15.25, -7.75, -20.75, -28.25, -0.25, -4.0, 17.0, 20.75, 26.5, 7.25, -20.5]\n",
      "4618.1875\n",
      "None \n",
      "\n"
     ]
    }
   ],
   "source": [
    "## Test your function again with the following list of numbers and different values of k (2,3 and 4):\n",
    "\n",
    "L = [88,44,60,56,70,91,54,60,48,35,49,44,61,68,82,71,50]\n",
    "\n",
    "for k in range(2,5):\n",
    "    print(moving_average(L, k), \"\\n\")\n",
    "    \n",
    "## The forecasted values and the corresponding total squared error for each k should look like the following:\n",
    "\n",
    "## [88, 44, 66.0, 52.0, 58.0, 63.0, 80.5, 72.5, 57.0, 54.0, 41.5, 42.0, 46.5, 52.5, 64.5, 75.0, 76.5]\n",
    "## 3815.75 \n",
    "\n",
    "## [88, 44, 60, 64.0, 53.333333333333336, 62.0, 72.33333333333333, 71.66666666666667, 68.33333333333333, 54.0, 47.666666666666664, 44.0, 42.666666666666664, 51.333333333333336, 57.666666666666664, 70.33333333333333, 73.66666666666667]\n",
    "## 4197.777777777778 \n",
    "\n",
    "## [88, 44, 60, 56, 62.0, 57.5, 69.25, 67.75, 68.75, 63.25, 49.25, 48.0, 44.0, 47.25, 55.5, 63.75, 70.5]\n",
    "## 4618.1875 "
   ]
  },
  {
   "cell_type": "code",
   "execution_count": null,
   "metadata": {},
   "outputs": [],
   "source": []
  },
  {
   "cell_type": "code",
   "execution_count": null,
   "metadata": {},
   "outputs": [],
   "source": []
  }
 ],
 "metadata": {
  "kernelspec": {
   "display_name": "Python 3",
   "language": "python",
   "name": "python3"
  },
  "language_info": {
   "codemirror_mode": {
    "name": "ipython",
    "version": 3
   },
   "file_extension": ".py",
   "mimetype": "text/x-python",
   "name": "python",
   "nbconvert_exporter": "python",
   "pygments_lexer": "ipython3",
   "version": "3.8.3"
  }
 },
 "nbformat": 4,
 "nbformat_minor": 4
}
