{
 "cells": [
  {
   "cell_type": "markdown",
   "metadata": {},
   "source": [
    "\n",
    "Your Name: Nghi Tran (Tran Thi Truc Nghi)\n",
    "**This is my practice with Python"
   ]
  },
  {
   "cell_type": "markdown",
   "metadata": {},
   "source": [
    "### Question 1.\n",
    "\n",
    "Please develop a program that starts by taking an integer representing seconds (e.g. 100 means 100 seconds) from the user. Then your program should display the equivalent amount of time in the format of D:H:M:S, where D, H, M, and S represent days, hours, minutes and seconds, respectively. \n",
    "\n",
    "For example, <code>1000000</code> seconds is equivalent to <code>11:13:46:40</code>.\n",
    "\n",
    "**Hint**: There are 24 * 60 * 60 seconds in a day. You can first calculate how many full days there are and keep the *remaining* seconds for further processing."
   ]
  },
  {
   "cell_type": "code",
   "execution_count": 2,
   "metadata": {},
   "outputs": [
    {
     "name": "stdout",
     "output_type": "stream",
     "text": [
      "please type your seconds here: 100\n",
      "D:H:S:M is 0.0 : 0.0 : 1.0 : 40.0\n"
     ]
    }
   ],
   "source": [
    "## Your program starts from here:\n",
    "# First, we call the 'second' as the variable for input\n",
    "second=float(input(\"please type your seconds here: \"))\n",
    "##Because there will be 24 hours in a day, and every hour is 60 mins and every min is 60 seconds. We call D for representing the day:\n",
    "D=second//(24*60*60)\n",
    "## the remaining seconds after D is calculated: \n",
    "second=second%(24*60*60)\n",
    "## Because one hour is 60 mins, so the remaining seconds will be used to calculate the hour (H):\n",
    "H=second//(60*60)\n",
    "second=second%(60*60)\n",
    "## As being explained, the remaining second from hours will be used to calculate the mins (M):\n",
    "M=second//(60)\n",
    "second=second%(60)\n",
    "## the remaining seconds will be second (S)\n",
    "S=second\n",
    "print(\"D:H:S:M is\" , D,\":\",H, \":\", M, \":\", S)\n",
    "\n"
   ]
  },
  {
   "cell_type": "markdown",
   "metadata": {},
   "source": [
    "### Question 2.\n",
    "\n",
    "A Finnish Social Security Number (SSN) is a sequence of 11 characters, which is formed on the basis of the holder's date of birth and gender. An elucidation of the Finnish SSN is available on the website of [Digital and Population Data Services Agency](https://dvv.fi/en/personal-identity-code), which is also given below:\n",
    "\n",
    "> Anna Suomalainen’s personal identity code is 131052-308T. The first part of it - 131052 - tells us the day, month and year of her birth, in the form ddmmyy. Thus, her date of birth is 13 October 1952. <br><br>\n",
    "The sign after the date of birth tells us the century in which she was born. In Anna’s case the sign is a hyphen (-) as she was born in the 1900s. Those born in the 1800s have a plus (+) and those born in the 2000s have the letter A. <br><br>\n",
    "The individual number, which for Anna is 308, distinguishes persons with the same date of birth from each other. Men have an odd number and women an even number. In practice, all individual numbers issued are between 002 and 899.\n",
    "\n",
    "Please create a program that takes a Finnish SSN from the user. You program should check if the input Finnish SSN satisfies the following conditions or not:\n",
    "- There must be exactly 11 characters.\n",
    "- The day and month of birth must be valid.\n",
    "- The sign indicating the century of birth must be one of the three valid characters. \\\n",
    " (**Hint**: You can use the <code>in</code> keyword, such as <code>sign in ['-','A','+']</code>, which will return <code>True</code> if <code>sign</code> is one of the three characters.)\n",
    "- The individual number must be between 002 and 899 (both inclusive).\n",
    "\n",
    "If the input Finnish SSN is valid (*i.e.*, all the aforementioned conditions are satisfied), your program should display:\n",
    "- the date of birth (in the format of **dd.mm.yyyy**) of the holder\n",
    "- the **gender** of the holder\n",
    "\n",
    "Otherwise, your program should return a warning message."
   ]
  },
  {
   "cell_type": "code",
   "execution_count": 5,
   "metadata": {},
   "outputs": [
    {
     "name": "stdout",
     "output_type": "stream",
     "text": [
      "Please input your social security number: 060992-236G\n",
      "060992-236G is women\n",
      "The status is:  True and your date of birth is:  6 . 9 . 92\n",
      "060992-236G\n"
     ]
    }
   ],
   "source": [
    "## Your program starts from here:\n",
    "SSN=input(\"Please input your social security number: \")\n",
    "status= True\n",
    "if len(SSN)==11:\n",
    "    status= True\n",
    "else:\n",
    "    status= False\n",
    "dd = int(SSN[0:2])  \n",
    "if dd>=0 and dd<32:\n",
    "    status=True\n",
    "else:\n",
    "    status=False\n",
    "mm =int(SSN[2:4])\n",
    "if mm>=0 and mm<13:\n",
    "    status= True\n",
    "else: \n",
    "    status=False\n",
    "yy =int(SSN[4:6])\n",
    "if yy>1799 and yy<2030:\n",
    "    status= True\n",
    "else:\n",
    "    status=False\n",
    "gender = int(SSN[7:10])  \n",
    "if gender >=2 and gender <= 899:\n",
    "    status= True\n",
    "    if gender%2==0:\n",
    "            print(SSN, \"is women\")\n",
    "    else:\n",
    "            print(SSN, \"is men\")\n",
    "else:\n",
    "        status= False\n",
    "if ('-' in SSN) or ('A' in SSN) or ('+' in SSN):\n",
    "    status= True\n",
    "else:\n",
    "    status= False\n",
    "print(\"The status is: \",status, \"and your date of birth is: \", dd,\".\",mm,\".\",yy)\n",
    "print(SSN)\n",
    "        \n",
    "\n"
   ]
  },
  {
   "cell_type": "markdown",
   "metadata": {},
   "source": [
    "### Question 3.\n",
    "\n",
    "A year is usually divided into four seasons: Spring, Summer, Fall and Winter. Although the exact dates at which the season changes vary slightly from year to year because of the way that the calendar is constructed, we can use the following **starting dates** for simplicity:\n",
    "- Spring: March 20\n",
    "- Summer: June 21\n",
    "- Autumn: September 22\n",
    "- Winter: December 21\n",
    "\n",
    "Please create a program that takes a month and a day seperately from the user. The user will first enter the name of the month (as a string), then the day within the month (as an integer). Your program should display the corresponding season to the date that has been entered."
   ]
  },
  {
   "cell_type": "code",
   "execution_count": 5,
   "metadata": {},
   "outputs": [
    {
     "name": "stdout",
     "output_type": "stream",
     "text": [
      "Input the month: December\n",
      "Input the day in month: 2\n",
      "2 December is autumn\n"
     ]
    }
   ],
   "source": [
    "## Your program starts from here:\n",
    "## We call month and day_in_month as variables for valid month and valid day:\n",
    "month = input(\"Input the month: \")\n",
    "day_in_month = int(input(\"Input the day in month: \"))\n",
    "## Beacuse we want to find value for season and season is not intergrers, so we define season as a string:\n",
    "season=\"\"\n",
    "## We use if, elif functions to find out the value for season:\n",
    "if month==\"March\" or month==\"April\" or month==\"May\":\n",
    "    if month == \"March\" and day_in_month<20: \n",
    "        season = \"winter\"\n",
    "    else:\n",
    "        season=\"spring\"\n",
    "\n",
    "elif month==\"June\" or month==\"July\" or month==\"August\":\n",
    "    if month == \"June\" and day_in_month < 20:\n",
    "        season = \"spring\"\n",
    "    else:\n",
    "        season=\"summer\"\n",
    "elif month==\"September\" or month==\"October\" or month==\"November\":\n",
    "    if month == \"September\" and day_in_month < 21:\n",
    "        season = \"summer\"\n",
    "    else:\n",
    "        season=\"autumn\"\n",
    "elif month==\"December\" or month==\"January\" or month==\"February\":\n",
    "    if month == \"December\" and day_in_month < 20:\n",
    "        season = \"autumn\"\n",
    "    else: \n",
    "        season=\"winter\"\n",
    "else:\n",
    "    season=\"invalid\"\n",
    "print (day_in_month, month, \"is\", season)"
   ]
  },
  {
   "cell_type": "markdown",
   "metadata": {},
   "source": [
    "### Question 4.\n",
    "\n",
    "A zoo determines the price of admission based on the age of the guest:\n",
    " - Guests of 2 years old or less are admitted without charge.\n",
    " - Children between 3 and 12 years of age (both inclusive) cost 14.00 euro per person.\n",
    " - Seniors aged 65 years or over cost 18.00 euro perperson.\n",
    " - Admission charge for all other guests is 23.00 euro per person.\n",
    "\n",
    "You will be given a list of the ages of a group visiting the zoo. Please create a program that displays the total admission cost for the group."
   ]
  },
  {
   "cell_type": "code",
   "execution_count": 9,
   "metadata": {},
   "outputs": [
    {
     "name": "stdout",
     "output_type": "stream",
     "text": [
      "total admission cost for the group is  78 euros\n"
     ]
    }
   ],
   "source": [
    "## The given list of ages:\n",
    "age_list = [3, 33, 42, 70, 1]\n",
    "cost=0  ##the total admission cost for the group\n",
    "## Your progarm starts from here:\n",
    "for i in age_list:\n",
    "    if i<=2: ##Guests of 2 years old or less are admitted without cost\n",
    "        cost+=0\n",
    "    elif i>=3 and i<=12: ##Children between 3 and 12 years of age (both inclusive) cost 14.00 euro per person.\n",
    "        cost+=14\n",
    "    elif i>=65: ##Seniors aged 65 years or over cost 18.00 euro perperson\n",
    "        cost+=18\n",
    "    else:\n",
    "        cost+=23 ##Admission charge for all other guests is 23.00 euro per person.\n",
    "print(\"total admission cost for the group is \", cost, \"euros\")\n"
   ]
  },
  {
   "cell_type": "markdown",
   "metadata": {},
   "source": [
    "### Question 5.\n",
    "\n",
    "In the game of Scrabble, each letter has points associated with it. The total score of a word is the sum of the scores of its letters. More common letters are worth fewer points while less common letters are worth more points. The points associated with each letter are given below as a dictionary. \n",
    "\n",
    "Please write a program that takes a word from the user, then computes and displays the Scrabble score for this word.\n",
    "\n",
    "Note: A Scrabble board includes some squares that multiply the value of a letter or the value of an entire word. For simplicity, we will ignore these squares in this exercise."
   ]
  },
  {
   "cell_type": "code",
   "execution_count": 1,
   "metadata": {
    "scrolled": true
   },
   "outputs": [
    {
     "name": "stdout",
     "output_type": "stream",
     "text": [
      "input whole entire word here: jkln\n",
      "JKLN is 9\n"
     ]
    }
   ],
   "source": [
    "## The dictionary below maps from letters to point values. You can use the dictionary to compute the score.\n",
    "\n",
    "letter_to_point = {\"A\":1, \"B\":3, \"C\":3, \"D\":2, \"E\":1, \"F\":4, \\\n",
    "                   \"G\":2, \"H\":4, \"I\":1, \"J\":2, \"K\":5, \"L\":1, \\\n",
    "                   \"M\":3, \"N\":1, \"O\":1, \"P\":3, \"Q\":10,\"R\":1, \\\n",
    "                   \"S\":1, \"T\":1, \"U\":1, \"V\":4, \"W\":4, \"X\":8, \\\n",
    "                   \"Y\":4, \"Z\":10}\n",
    "\n",
    "## Your program starts from here:\n",
    "i=input(\"input whole entire word here: \")\n",
    "i=i.upper()\n",
    "point=0\n",
    "for n in i:\n",
    "    point = point + letter_to_point[n]\n",
    "print(i, \"is\", point)"
   ]
  },
  {
   "cell_type": "markdown",
   "metadata": {},
   "source": [
    "### Question 6.\n",
    "\n",
    "Please extract 'hello' from the following nested dictionary using indexing."
   ]
  },
  {
   "cell_type": "code",
   "execution_count": null,
   "metadata": {},
   "outputs": [],
   "source": [
    "## The dictionary is given as follows:\n",
    "\n",
    "nested_dict = {'level_1':[1, 'two', {'level_2':['you are close', {'almost there':['one', 2, ['hello']]}]}]}\n",
    "\n",
    "## Your program starts from here:\n",
    "print(nested_dict['level_1'][-1]['level_2'][1]['almost there'][-1])\n"
   ]
  },
  {
   "cell_type": "code",
   "execution_count": null,
   "metadata": {},
   "outputs": [],
   "source": [
    "## or:\n",
    "print(nested_dict['level_1'][-1]['level_2'][-1] ['almost there'][-1])"
   ]
  }
 ],
 "metadata": {
  "kernelspec": {
   "display_name": "Python 3",
   "language": "python",
   "name": "python3"
  },
  "language_info": {
   "codemirror_mode": {
    "name": "ipython",
    "version": 3
   },
   "file_extension": ".py",
   "mimetype": "text/x-python",
   "name": "python",
   "nbconvert_exporter": "python",
   "pygments_lexer": "ipython3",
   "version": "3.8.3"
  }
 },
 "nbformat": 4,
 "nbformat_minor": 4
}
